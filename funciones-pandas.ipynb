{
 "cells": [
  {
   "cell_type": "markdown",
   "metadata": {},
   "source": [
    "\n",
    "head()              : Muestra las primeras filas del DataFrame.\n",
    "tail()              : Muestra las últimas filas del DataFrame.\n",
    "info()              : Proporciona información sobre el DataFrame, incluyendo el tipo de datos y la cantidad de valores no nulos.\n",
    "describe()          : Genera un resumen estadístico de los datos numéricos en el DataFrame.\n",
    "shape               : Devuelve una tupla que representa las dimensiones del DataFrame (número de filas, número de columnas).\n",
    "columns             : Devuelve una lista con los nombres de las columnas del DataFrame.\n",
    "iloc[]              : Permite acceder a filas y columnas por índices enteros.\n",
    "loc[]               : Permite acceder a filas y columnas por etiquetas.\n",
    "drop()              : Permite eliminar filas o columnas del DataFrame.\n",
    "groupby()           : Permite agrupar los datos según una o varias columnas.\n",
    "mean()              : Calcula la media de los valores en un DataFrame o Series.\n",
    "sum()               : Calcula la suma de los valores en un DataFrame o Series.\n",
    "std()               : Calcula la desviación estándar de los valores en un DataFrame o Series.\n",
    "min()               : Encuentra el valor mínimo en un DataFrame o Series.\n",
    "max()               : Encuentra el valor máximo en un DataFrame o Series.\n",
    "count()             : Cuenta el número de elementos no nulos en un DataFrame o Series.\n",
    "median()            : Calcula la mediana de los valores en un DataFrame o Series.\n",
    "fillna()            : Rellena los valores faltantes (NaN) con un valor específico.\n",
    "dropna()            : Elimina filas con valores faltantes (NaN) de un DataFrame.\n",
    "sort_values()       : Ordena los valores en un DataFrame según una o varias columnas.\n",
    "isin()              : Comprueba si los valores están presentes en una lista dada.\n",
    "apply()             : Aplica una función a lo largo de un eje del DataFrame.\n",
    "merge()             : Combina dos DataFrames basándose en una columna común.\n",
    "pivot_table()       : Crea una tabla dinámica a partir de un DataFrame.\n",
    "to_csv()            : Guarda un DataFrame en un archivo CSV.\n",
    "to_excel()          : Guarda un DataFrame en un archivo Excel.\n",
    "drop_duplicates()   : Elimina filas duplicadas en un DataFrame.\n",
    "astype()            : Cambia el tipo de datos de una columna en un DataFrame.\n",
    "corr()              : Calcula la correlación entre columnas en un DataFrame.\n",
    "str.contains()      : Comprueba si una cadena está presente en otra cadena en un DataFrame.\n",
    "value_counts()      : Cuenta la frecuencia de valores únicos en una columna.\n",
    "reset_index()       : Restablece los índices del DataFrame.\n",
    "set_index()         : Establece una columna como índice del DataFrame.\n",
    "drop_duplicates()   : Elimina filas duplicadas en un DataFrame.\n",
    "rolling()           : Realiza operaciones de ventana (como media móvil) en un DataFrame.\n",
    "shift()             : Desplaza los valores hacia arriba o hacia abajo en un DataFrame.\n",
    "cumsum()            : Calcula la suma acumulativa de los valores en un DataFrame.\n",
    "duplicated()        : Identifica filas duplicadas en un DataFrame.\n",
    "to_datetime()       : Convierte una columna en formato de fecha y hora en un objeto DateTime.\n",
    "fillna()            : Rellena los valores faltantes en un DataFrame con un valor específico.\n",
    "plot()              : Crea gráficos a partir de los datos en un DataFrame.\n",
    "explode()           : Divide las listas anidadas en columnas separadas y duplica las filas correspondientes.\n",
    "between()           : Filtra las filas que se encuentran entre dos valores dados.\n",
    "resample()          : Agrupa los datos temporales a diferentes frecuencias (por ejemplo, diaria, mensual).\n",
    "pivot()             : Crea una tabla dinámica a partir de dos columnas en un DataFrame.\n",
    "concat()            : Concatena varios DataFrames juntos a lo largo de un eje específico.\n",
    "melt()              : Transforma un DataFrame ancho en uno largo a través de la especificación de columnas clave y valores.\n",
    "str.replace()       : Reemplaza parte de una cadena con otra en un DataFrame.\n",
    "str.extract()       : Extrae patrones específicos de una cadena en un DataFrame utilizando expresiones regulares.\n",
    "str.split()         : Divide una cadena en subcadenas basándose en un separador dado y devuelve una lista.\n"
   ]
  }
 ],
 "metadata": {
  "kernelspec": {
   "display_name": "Python 3",
   "language": "python",
   "name": "python3"
  },
  "language_info": {
   "codemirror_mode": {
    "name": "ipython",
    "version": 3
   },
   "file_extension": ".py",
   "mimetype": "text/x-python",
   "name": "python",
   "nbconvert_exporter": "python",
   "pygments_lexer": "ipython3",
   "version": "3.12.2"
  }
 },
 "nbformat": 4,
 "nbformat_minor": 2
}

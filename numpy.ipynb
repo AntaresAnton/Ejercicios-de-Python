{
 "cells": [
  {
   "cell_type": "markdown",
   "metadata": {},
   "source": [
    "Ejercicios de python con cosillas varias para poder manejarlo => actualizado Marzo 2024"
   ]
  },
  {
   "cell_type": "code",
   "execution_count": 1,
   "metadata": {},
   "outputs": [],
   "source": [
    "# con esto importamos numpy\n",
    "import numpy as np"
   ]
  },
  {
   "cell_type": "code",
   "execution_count": null,
   "metadata": {},
   "outputs": [],
   "source": [
    "print(np.__version__) #con esto revisamos la versión correspondiente\n",
    "np.show_config() #con esto se muestran datos técnicos de la instalación de numpy además de datos de la máquina"
   ]
  },
  {
   "cell_type": "code",
   "execution_count": 4,
   "metadata": {},
   "outputs": [
    {
     "name": "stdout",
     "output_type": "stream",
     "text": [
      "[0. 0. 0. 0. 0. 0. 0. 0. 0. 0.]\n"
     ]
    }
   ],
   "source": [
    "# creamos una cadena (matriz) de 10 ceros, recordar que estamos usando numpy\n",
    "z = np.zeros(10)\n",
    "print(z)"
   ]
  },
  {
   "cell_type": "code",
   "execution_count": 5,
   "metadata": {},
   "outputs": [
    {
     "name": "stdout",
     "output_type": "stream",
     "text": [
      "800 bytes\n"
     ]
    }
   ],
   "source": [
    "# con esto se revisa el tamaño que utiliza este codigo (en este caso, una matriz)\n",
    "z = np.zeros((10,10))\n",
    "print(\"%d bytes\" % (z.size * z.itemsize))"
   ]
  },
  {
   "cell_type": "code",
   "execution_count": 8,
   "metadata": {},
   "outputs": [
    {
     "name": "stdout",
     "output_type": "stream",
     "text": [
      "[0. 0. 0. 0. 1. 0. 0. 0. 0. 0.]\n"
     ]
    }
   ],
   "source": [
    "# crear una matriz de 9 ceros, pero en medio con un número uno\n",
    "z = np.zeros(10)\n",
    "z[4] = 1  #acá es donde se inserta el numero 1 en la cadena, esta se podría editar en cualquier posición\n",
    "print(z)"
   ]
  },
  {
   "cell_type": "code",
   "execution_count": null,
   "metadata": {},
   "outputs": [],
   "source": [
    "# crear una matriz de 10x50 \n",
    "z = np.arange(10,50)\n",
    "print(z)\n"
   ]
  },
  {
   "cell_type": "code",
   "execution_count": null,
   "metadata": {},
   "outputs": [],
   "source": [
    "# revertir una cadena o matriz\n",
    "z = np.arange(50)\n",
    "z = z[::-1] #esto es lo que realiza que la cadena se muestre de manera inversa\n",
    "print(z)\n",
    "# recordar que python parte de 0, por lo que el número final es el 49"
   ]
  },
  {
   "cell_type": "code",
   "execution_count": null,
   "metadata": {},
   "outputs": [],
   "source": [
    "# crear una matriz de 3x3\n",
    "z = np.arange(9).reshape(3,3) #acordarse del reshape, ya que es el fila/columna RECORDAR\n",
    "print(z)"
   ]
  },
  {
   "cell_type": "code",
   "execution_count": null,
   "metadata": {},
   "outputs": [],
   "source": [
    "# Devuelve los índices de los elementos distintos de cero.\n",
    "nz = np.nonzero([1,2,0,0,4,0])\n",
    "print(nz)"
   ]
  },
  {
   "cell_type": "code",
   "execution_count": null,
   "metadata": {},
   "outputs": [],
   "source": [
    "# crear una matiz identica de 3x3 con unos en diagonal\n",
    "z = np.eye(10) #.reshape(20,5) el reshape lo dejé para jugar no más\n",
    "print(z)"
   ]
  },
  {
   "cell_type": "code",
   "execution_count": null,
   "metadata": {},
   "outputs": [],
   "source": [
    "# crear una matriz con datos random de 3 dimensiones\n",
    "z = np.random.random((3,3,3))\n",
    "print(z)"
   ]
  },
  {
   "cell_type": "code",
   "execution_count": null,
   "metadata": {},
   "outputs": [],
   "source": [
    "# crear una matriz de 10x10 con datos random y encontrar sus minimos y maximos respectivos\n",
    "z = np.random.random((10,10)) #genera la matriz\n",
    "# print(z)\n",
    "zmin,zmax = z.min(),z.max() #filtra los minimos y maximos de la cadena\n",
    "print(zmin,zmax)"
   ]
  },
  {
   "cell_type": "code",
   "execution_count": null,
   "metadata": {},
   "outputs": [],
   "source": [
    "# crear una matriz con datos random de 30 y encontrar la media\n",
    "z = np.random.random((30)) #genera los datos de 30 valoresn en un array\n",
    "# print(z)\n",
    "m = z.mean() #busca el numero media del array\n",
    "print(m)"
   ]
  },
  {
   "cell_type": "code",
   "execution_count": null,
   "metadata": {},
   "outputs": [],
   "source": [
    "# sacarle los corchetes a los arrays\n",
    "lista = np.arange(1,41).reshape(10,4) #genera el rango numerico y distribución fila columna\n",
    "# cichlo for\n",
    "for fila in lista:\n",
    "    print(*fila)"
   ]
  },
  {
   "cell_type": "markdown",
   "metadata": {},
   "source": [
    "COLORES EN PYTHON"
   ]
  },
  {
   "cell_type": "code",
   "execution_count": null,
   "metadata": {},
   "outputs": [],
   "source": [
    "# Importar colorama - para agregar colorcillos en los textos\n",
    "from colorama import *"
   ]
  },
  {
   "cell_type": "code",
   "execution_count": null,
   "metadata": {},
   "outputs": [],
   "source": [
    "# colores de textos como ejemplos\n",
    "print(Fore.CYAN + 'texto cyan')\n",
    "print(Back.GREEN + 'background verde')\n",
    "print(Style.DIM + 'and in dim text')\n",
    "print(Style.RESET_ALL)\n",
    "print('back to normal now')"
   ]
  },
  {
   "cell_type": "code",
   "execution_count": null,
   "metadata": {},
   "outputs": [],
   "source": [
    "# crear una matriz 2d pero que sea rodeada de unos\n",
    "# ejemplo\n",
    "# 1 1 1 1\n",
    "# 1 0 0 1\n",
    "# 1 1 1 1\n",
    "z = np.ones((10,10)) #crea una matriz de 10x10 \n",
    "# print(z)\n",
    "z[1:-1,1:-1] = 0\n",
    "print(z)"
   ]
  },
  {
   "cell_type": "code",
   "execution_count": null,
   "metadata": {},
   "outputs": [],
   "source": [
    "# agregar un borde con ceros en una matriz que ya existe\n",
    "z = np.ones((5,5))\n",
    "# print(z)\n",
    "# np.pad en NumPy se utiliza para agregar relleno a un array NumPy. Puedes especificar el ancho del relleno y los valores de relleno para cada borde del array.\n",
    "z = np.pad(z, pad_width=1, mode='constant', constant_values=0)\n",
    "print(z)"
   ]
  },
  {
   "cell_type": "code",
   "execution_count": null,
   "metadata": {},
   "outputs": [],
   "source": [
    "# usando un indexado más bonito para las matrices \n",
    "z = np.ones((10,10))\n",
    "\n",
    "z[:, [0, -1]] = 0 # asigna el valor 0 a todas las filas de la primera y última columna de la matriz Z\n",
    "z[[0, -1], :] = 0 # asigna el valor 0 a la primera y última fila de todas las columnas de la matriz Z\n",
    "print(z)"
   ]
  },
  {
   "cell_type": "code",
   "execution_count": null,
   "metadata": {},
   "outputs": [],
   "source": [
    "# resultado de la siguiente expresión\n",
    "# ojo, nan es NaN = not a number\n",
    "0 * np.nan\n",
    "np.nan == np.nan # En NumPy, la comparación de NaN con NaN devuelve False, ya que NaN se considera un valor \"no numérico\n",
    "np.inf > np.nan # En NumPy, infinito (inf) se considera mayor que NaN, ya que NaN se considera un valor \"no numérico\n",
    "np.nan - np.nan # Restar NaN de NaN resulta en NaN\n",
    "np.nan in set([np.nan]) # NaN está presente en el conjunto que contiene NaN, por lo tanto, devuelve True\n",
    "0.3 == 3 * 0.1 # Debido a problemas de representación en punto flotante, esta expresión puede no dar como resultado True en todos los casos, ya que 0.1 no puede representarse con precisión en binario. Por lo tanto, puede dar como resultado False en algunos casos debido a errores de redondeo en la representación de números de punto flotante"
   ]
  },
  {
   "cell_type": "code",
   "execution_count": null,
   "metadata": {},
   "outputs": [],
   "source": [
    "# crear una matriz de 5x5  con valores 1,2,3.4 justo debajo de la diagonal\n",
    "z = np.diag(1+np.arange(4),k=-1)\n",
    "print(z)"
   ]
  },
  {
   "cell_type": "code",
   "execution_count": null,
   "metadata": {},
   "outputs": [],
   "source": [
    "# crear una matriz de 10x10 y generarla a lo tablero de ajedrez 1 0 1 0 1 \n",
    "z = np.zeros((8,8), dtype=int) #el dtype quita los puntos de la matriz\n",
    "z[1::2,::2] = 5\n",
    "z[::2,1::2] = 1\n",
    "print(z)"
   ]
  },
  {
   "cell_type": "code",
   "execution_count": null,
   "metadata": {},
   "outputs": [],
   "source": [
    "# Considere una matriz de formas (6,7,8), ¿cuál es el índice (x,y,z) del elemento número 100?\n",
    "matriz = np.unravel_index(99,(6,7,8))\n",
    "print(matriz)"
   ]
  },
  {
   "cell_type": "code",
   "execution_count": null,
   "metadata": {},
   "outputs": [],
   "source": [
    "# crear una matriz de 8x8 como ajedrez\n",
    "z = np.tile(np.array([[0,5],[1,0]]), (4,4))\n",
    "print(z)"
   ]
  },
  {
   "cell_type": "code",
   "execution_count": null,
   "metadata": {},
   "outputs": [],
   "source": [
    "# normalizar una matriz aleatoria de 5x5\n",
    "z = np.random.random((5,5))\n",
    "print(\"matriz sin normalizar\\n\",z) #impresion de la matriz sin normalizar\n",
    "z = (z - np.mean(z)) / (np.std(z)) # se resta la media y se divide por la desviaación estandar de la matriz\n",
    "print(\"matriz normalizada\\n\",z)"
   ]
  },
  {
   "cell_type": "code",
   "execution_count": null,
   "metadata": {},
   "outputs": [],
   "source": [
    "# multiplicar una matriz de 5x3 * 3x2\n",
    "z = np.dot(np.ones((5,3)), np.ones((3,2)))\n",
    "print(z)\n"
   ]
  },
  {
   "cell_type": "code",
   "execution_count": null,
   "metadata": {},
   "outputs": [],
   "source": [
    "# solución de arriba para versiones actuales de python\n",
    "z = np.ones((5,3)) @ np.ones((3,2))\n",
    "print(z)"
   ]
  },
  {
   "cell_type": "code",
   "execution_count": null,
   "metadata": {},
   "outputs": [],
   "source": [
    "# realizar un array de 1D y dejar en negativo los elementos que estén entre el 3 y el 8\n",
    "z = np.arange(10)\n",
    "z[(3 < z) & (z < 8)] *= -1\n",
    "print(z)"
   ]
  },
  {
   "cell_type": "code",
   "execution_count": null,
   "metadata": {},
   "outputs": [],
   "source": [
    "print(np.array(0) / np.array(0)) # intenta dividir dos arrays, ambos conteniendo el valor 0. Esto generará un \"warning\" de división por cero y el resultado será nan (Not a Number) en un array de punto flotante.\n",
    "print(np.array(0) // np.array(0)) # Similar al caso anterior, pero utilizando la división entera (//). También generará un \"warning\" de división por cero y el resultado será 0 en un array de tipo entero.\n",
    "print(np.array([np.nan]).astype(int).astype(float)) #  Aquí se crea un array con un valor nan, luego se convierte a tipo entero (lo cual convierte nan a -9223372036854775808 en sistemas de 64 bits), y finalmente se convierte de nuevo a tipo flotante, resultando en -9.22337204e+18"
   ]
  },
  {
   "cell_type": "code",
   "execution_count": null,
   "metadata": {},
   "outputs": [],
   "source": [
    "# redondear desde cero una matriz con numeros float\n",
    "z = np.random.uniform(-10,+10,10)\n",
    "print(np.copysign(np.ceil(np.abs(z)),z))"
   ]
  },
  {
   "cell_type": "code",
   "execution_count": null,
   "metadata": {},
   "outputs": [],
   "source": [
    "# más legible que el de arriba, pero menos eficiente\n",
    "mat = np.where(z>0,np.ceil(z),np.floor(z))\n",
    "print(mat)"
   ]
  },
  {
   "cell_type": "code",
   "execution_count": null,
   "metadata": {},
   "outputs": [],
   "source": [
    "# Cómo encontrar valores comunes entre 2 arrays?\n",
    "z1 = np.random.randint(0,10,10)\n",
    "z2 = np.random.randint(0,10,10)\n",
    "print(\"matrices random:\\n\",z1,z2)\n",
    "print(\"numeros en común:\\n\", np.intersect1d(z1,z2))"
   ]
  },
  {
   "cell_type": "markdown",
   "metadata": {},
   "source": [
    "ejemplos de fechas, tanto con librería datetime como con numpy"
   ]
  },
  {
   "cell_type": "code",
   "execution_count": null,
   "metadata": {},
   "outputs": [],
   "source": [
    "import datetime # se importa la librería datetime\n",
    "# obtener los formatos de fecha necesarios\n",
    "fecha_hoy = datetime.date.today()\n",
    "print(\"la fecha de hoy es (hecho con librería datetime):\",fecha_hoy)\n",
    "\n",
    "hoydia = np.datetime64('today')\n",
    "print(\"la fecha de hoy es (hecho con numpy):\",hoydia)\n"
   ]
  },
  {
   "cell_type": "code",
   "execution_count": null,
   "metadata": {},
   "outputs": [],
   "source": [
    "# desestructurar fechas\n",
    "fecha = np.datetime64('today')  # Ejemplo de fecha en formato numpy\n",
    "\n",
    "# Obtener los componentes individuales\n",
    "año = np.datetime_as_string(fecha, unit='Y')\n",
    "mes = np.datetime_as_string(fecha, unit='M')\n",
    "dia = np.datetime_as_string(fecha, unit='D')\n",
    "\n",
    "print(\"Año:\", año)\n",
    "print(\"Mes:\", mes)\n",
    "print(\"Día:\", dia)"
   ]
  },
  {
   "cell_type": "code",
   "execution_count": 9,
   "metadata": {},
   "outputs": [
    {
     "name": "stdout",
     "output_type": "stream",
     "text": [
      "si me preguntan que dia es hoy, estamos a 20 del 03 del 2024\n"
     ]
    }
   ],
   "source": [
    "# ahora desestructurado de panini, para que se pueda personalizar una fecha puntual (mas fancy)\n",
    "\n",
    "fecha = np.datetime64('today')  # Ejemplo de fecha en formato numpy\n",
    "# Obtener sólo el año\n",
    "año = np.datetime_as_string(fecha, unit='Y').split('-')[0] #con el split, quitamos el guión, generando separación y desestructuramos\n",
    "# Obtener solo el mes\n",
    "mes = np.datetime_as_string(fecha, unit='M').split('-')[1] #con el split, quitamos el guión, generando separación y desestructuramos\n",
    "# Obtener sólo el dia\n",
    "dia = np.datetime_as_string(fecha, unit='D').split('-')[2] #con el split, quitamos el guión, generando separación y desestructuramos\n",
    "\n",
    "# y ahora usaremos f strings para ahorrarnos espacio\n",
    "print(f'si me preguntan que dia es hoy, estamos a {dia} del {mes} del {año}')"
   ]
  },
  {
   "cell_type": "code",
   "execution_count": 20,
   "metadata": {},
   "outputs": [
    {
     "name": "stdout",
     "output_type": "stream",
     "text": [
      "Mes: March\n",
      "Año: 2024\n",
      "esto sólo sale en inglés, más abajo está la formula para español, pero figuraría de la siguiente manera:\n",
      "        Today is 03 20, 2024\n",
      "        le añadí un cero, para que no se viera mal\n",
      "      \n"
     ]
    }
   ],
   "source": [
    "# acá haremos otro truco, colocar en vez de la fecha numérica, con su respectivo nombre\n",
    "import calendar #libreria calendar\n",
    "\n",
    "fecha = np.datetime64('today')  # Ejemplo de fecha en formato numpy para hoy\n",
    "\n",
    "# Obtener el mes como nombre completo\n",
    "dia_num = int(np.datetime_as_string(fecha, unit='D').split('-')[2])\n",
    "mes_num = int(np.datetime_as_string(fecha, unit='M').split('-')[1])\n",
    "nombre_mes = calendar.month_name[mes_num] #acá le tenía un número, mietras que le podíamos poner la variable mes_num jaja\n",
    "\n",
    "# Obtener el año\n",
    "año = np.datetime_as_string(fecha, unit='Y')\n",
    "\n",
    "print(\"Mes:\", nombre_mes)\n",
    "print(\"Año:\", año)\n",
    "print(f\"\"\"esto sólo sale en inglés, más abajo está la formula para español, pero figuraría de la siguiente manera:\n",
    "        Today is 0{mes_num} {dia_num}, {año}\n",
    "        le añadí un cero, para que no se viera mal\n",
    "      \"\"\")"
   ]
  },
  {
   "cell_type": "markdown",
   "metadata": {},
   "source": [
    "fecha con numpy y datetime, ojo que se puede realizar de varias formas, pero esta es la que aprovecha las variables de numpy y solo utiliza datetime para definir los dias"
   ]
  },
  {
   "cell_type": "code",
   "execution_count": 21,
   "metadata": {},
   "outputs": [
    {
     "name": "stdout",
     "output_type": "stream",
     "text": [
      "Santiago, miércoles 20 de marzo de 2024\n"
     ]
    }
   ],
   "source": [
    "# aparte de numpy, debemos importar datetime\n",
    "import datetime\n",
    "import numpy as np\n",
    "# FECHA CON NOMBRES EN ESPAÑOL\n",
    "# Definir un diccionario de nombres de meses en español\n",
    "meses_espanol = {\n",
    "    1: \"enero\", \n",
    "    2: \"febrero\", \n",
    "    3: \"marzo\", \n",
    "    4: \"abril\",\n",
    "    5: \"mayo\", \n",
    "    6: \"junio\", \n",
    "    7: \"julio\", \n",
    "    8: \"agosto\",\n",
    "    9: \"septiembre\", \n",
    "    10: \"octubre\", \n",
    "    11: \"noviembre\", \n",
    "    12: \"diciembre\"\n",
    "}\n",
    "# Definir un diccionario con los dias en español para datetime\n",
    "dias_semana = [\n",
    "    'lunes', \n",
    "    'martes', \n",
    "    'miércoles', \n",
    "    'jueves', \n",
    "    'viernes', \n",
    "    'sábado', \n",
    "    'domingo'\n",
    "]\n",
    "fecha = np.datetime64('today')  # Ejemplo de fecha en formato numpy\n",
    "\n",
    "# Obtener el mes como nombre completo en español\n",
    "mes_num = int(np.datetime_as_string(fecha, unit='M').split('-')[1]) #con el split, quitamos el guión, generando separación y desestructuramos\n",
    "dia_num = int(np.datetime_as_string(fecha, unit='D').split('-')[2]) #con el split, quitamos el guión, generando separación y desestructuramos\n",
    "# Obtener las fechas respectivas\n",
    "anio = np.datetime_as_string(fecha, unit='Y')\n",
    "nombre_mes = meses_espanol[mes_num]\n",
    "\n",
    "nombre_dia = dias_semana[datetime.date.today().weekday()] # aca se ocupa atributos de datetime + diccionario\n",
    "\n",
    "# ahora con f strings \n",
    "print(f'Santiago, {nombre_dia} {dia_num} de {nombre_mes} de {anio}')"
   ]
  },
  {
   "cell_type": "code",
   "execution_count": 22,
   "metadata": {},
   "outputs": [
    {
     "name": "stdout",
     "output_type": "stream",
     "text": [
      "['2023-04-01' '2023-04-02' '2023-04-03' '2023-04-04' '2023-04-05'\n",
      " '2023-04-06' '2023-04-07' '2023-04-08' '2023-04-09' '2023-04-10'\n",
      " '2023-04-11' '2023-04-12' '2023-04-13' '2023-04-14' '2023-04-15'\n",
      " '2023-04-16' '2023-04-17' '2023-04-18' '2023-04-19' '2023-04-20'\n",
      " '2023-04-21' '2023-04-22' '2023-04-23' '2023-04-24' '2023-04-25'\n",
      " '2023-04-26' '2023-04-27' '2023-04-28' '2023-04-29' '2023-04-30']\n"
     ]
    }
   ],
   "source": [
    "# obtener un listado con rango de fechas (un mes para ser específico)\n",
    "z = np.arange('2023-04','2023-05', dtype='datetime64[D]') #el datetime extrae los dias\n",
    "divisiones = z.reshape(3,10) #donde es un array, podemos hacer reshape a ciertas fechas parejas, como las matrices \n",
    "print(z)\n",
    "# y si queremos sacarle el corchete, usamos *\n",
    "# print(*z)"
   ]
  },
  {
   "cell_type": "code",
   "execution_count": null,
   "metadata": {},
   "outputs": [],
   "source": [
    "# ¿Cómo calcular ((A+B)*(-A/2)) en su lugar (sin copia)?\n",
    "\n",
    "A = np.ones(3)*1 # se crea una matriz | Resultado: A = array([1., 1., 1.])\n",
    "B = np.ones(3)*2 # se crea una matriz | Resultado: B = array([2., 2., 2.])\n",
    "print(f'{A} {B}')\n",
    "\n",
    "np.add(A,B,out=B) # Suma los elementos de los arrays A y B, y guarda el resultado en B. Resultado: B = array([3., 3., 3.])\n",
    "np.divide(A,2,out=A) # Resultado: A = array([0.5, 0.5, 0.5])\n",
    "np.negative(A,out=A) #Resultado: A = array([-0.5, -0.5, -0.5])\n",
    "np.multiply(A,B,out=A) #Resultado: A = array([-1.5, -1.5, -1.5])"
   ]
  },
  {
   "cell_type": "code",
   "execution_count": null,
   "metadata": {},
   "outputs": [],
   "source": [
    "z = np.random.uniform(0,10,10) # un array con 10 cosas\n",
    "print(z) #arroja el array con los 10 elementos \n",
    "print(z - z%1) # arroja los primeros numeros de cada elemento del array\n",
    "print(z // 1) # realiza lo mismo que la función de arriba\n",
    "print(np.floor(z)) # realiza lo mismo que las funciones de arriba\n",
    "print(z.astype(int)) # devuelve los primeros números, pero sin los puntos, como int\n",
    "print(np.trunc(z)) # truncado.\n"
   ]
  },
  {
   "cell_type": "code",
   "execution_count": 2,
   "metadata": {},
   "outputs": [
    {
     "name": "stdout",
     "output_type": "stream",
     "text": [
      "[[0. 1. 2. 3. 4.]\n",
      " [0. 1. 2. 3. 4.]\n",
      " [0. 1. 2. 3. 4.]\n",
      " [0. 1. 2. 3. 4.]\n",
      " [0. 1. 2. 3. 4.]]\n"
     ]
    }
   ],
   "source": [
    "# genera una matriz de 4x4 con valores raw\n",
    "z = np.zeros((5,5))\n",
    "z +=np.arange(5)\n",
    "print(z)"
   ]
  },
  {
   "cell_type": "code",
   "execution_count": null,
   "metadata": {},
   "outputs": [],
   "source": [
    "# otra alternativa, sin puntos\n",
    "z = np.tile(np.arange(0,5),(5,1))\n",
    "print(z)"
   ]
  },
  {
   "cell_type": "code",
   "execution_count": null,
   "metadata": {},
   "outputs": [],
   "source": [
    "# crear una función generadora de 10 numeros y construir una matriz:\n",
    "def generate():\n",
    "    for x in range(100):\n",
    "        yield x\n",
    "z = np.fromiter(generate(),dtype=float, count=-1)\n",
    "print(\"\\narray con puntos \\n\",z)\n",
    "# para imprimirlo sin los puntos\n",
    "print(\"\\nse eliminan los puntos \\n\",z.astype(int))\n",
    "# como dato adicional, se puede agregar un asterisco en el print para eliminar los corchetes"
   ]
  },
  {
   "cell_type": "code",
   "execution_count": null,
   "metadata": {},
   "outputs": [],
   "source": [
    "# crear un array con nímeros que vayan del cero al uno\n",
    "z = np.linspace(0,1,11,endpoint=False)[1:]\n",
    "print(z)"
   ]
  },
  {
   "cell_type": "markdown",
   "metadata": {},
   "source": [
    "Ayuda en Python - para conocer las propiedades de cada cosa, podemos agregar el signo \"?\""
   ]
  },
  {
   "cell_type": "code",
   "execution_count": null,
   "metadata": {},
   "outputs": [],
   "source": [
    "np.arange? # arroja todas las propiedades del arange"
   ]
  },
  {
   "cell_type": "code",
   "execution_count": 54,
   "metadata": {},
   "outputs": [
    {
     "name": "stdout",
     "output_type": "stream",
     "text": [
      "[0.17103354 0.18827022 0.35190153 0.48140685 0.58650089 0.60037724\n",
      " 0.70928371 0.80243744 0.91550436 0.92973425]\n"
     ]
    }
   ],
   "source": [
    "# crear un array random con 10 elementos\n",
    "z = np.random.random(10)\n",
    "z.sort()\n",
    "print(z)"
   ]
  },
  {
   "cell_type": "code",
   "execution_count": 71,
   "metadata": {},
   "outputs": [
    {
     "name": "stdout",
     "output_type": "stream",
     "text": [
      "[0 1 2 3 4 5 6 7 8 9] = 45\n",
      "la suma de los números en el array es 45\n"
     ]
    }
   ],
   "source": [
    "# sumar una matriz pequeña = suma todos los numeros\n",
    "z = np.arange(10)\n",
    "suma = np.add.reduce(z)\n",
    "print(f\"{z} = {suma}\")\n",
    "print(f\"la suma de los números en el array es {suma}\")"
   ]
  },
  {
   "cell_type": "code",
   "execution_count": 83,
   "metadata": {},
   "outputs": [
    {
     "name": "stdout",
     "output_type": "stream",
     "text": [
      "[0 1 1 0 0] [1 0 0 1 1]\n",
      "False\n",
      "False\n"
     ]
    }
   ],
   "source": [
    "# Considerar 2 matrices aleatorias y ver si son iguales\n",
    "a = np.random.randint(0,2,5)\n",
    "b = np.random.randint(0,2,5)\n",
    "print(f\"{a} {b}\")\n",
    "\n",
    "igual = np.allclose(a,b) # ver igualdad (opcion 1)\n",
    "print(igual)\n",
    "\n",
    "igual = np.array_equal(a,b) # ver igualdad (opción 2)\n",
    "print(igual)"
   ]
  }
 ],
 "metadata": {
  "kernelspec": {
   "display_name": "Python 3",
   "language": "python",
   "name": "python3"
  },
  "language_info": {
   "codemirror_mode": {
    "name": "ipython",
    "version": 3
   },
   "file_extension": ".py",
   "mimetype": "text/x-python",
   "name": "python",
   "nbconvert_exporter": "python",
   "pygments_lexer": "ipython3",
   "version": "3.12.2"
  }
 },
 "nbformat": 4,
 "nbformat_minor": 2
}

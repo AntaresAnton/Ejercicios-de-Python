{
 "cells": [
  {
   "cell_type": "markdown",
   "metadata": {},
   "source": [
    "Ejercicios de python con cosillas varias para poder manejarlo => actualizado Marzo 2024"
   ]
  },
  {
   "cell_type": "code",
   "execution_count": 1,
   "metadata": {},
   "outputs": [],
   "source": [
    "# con esto importamos numpy\n",
    "import numpy as np"
   ]
  },
  {
   "cell_type": "code",
   "execution_count": 2,
   "metadata": {},
   "outputs": [
    {
     "name": "stdout",
     "output_type": "stream",
     "text": [
      "1.26.4\n",
      "Build Dependencies:\n",
      "  blas:\n",
      "    detection method: pkgconfig\n",
      "    found: true\n",
      "    include directory: /c/opt/64/include\n",
      "    lib directory: /c/opt/64/lib\n",
      "    name: openblas64\n",
      "    openblas configuration: USE_64BITINT=1 DYNAMIC_ARCH=1 DYNAMIC_OLDER= NO_CBLAS=\n",
      "      NO_LAPACK= NO_LAPACKE= NO_AFFINITY=1 USE_OPENMP= SKYLAKEX MAX_THREADS=2\n",
      "    pc file directory: C:/opt/64/lib/pkgconfig\n",
      "    version: 0.3.23.dev\n",
      "  lapack:\n",
      "    detection method: internal\n",
      "    found: true\n",
      "    include directory: unknown\n",
      "    lib directory: unknown\n",
      "    name: dep3179274605568\n",
      "    openblas configuration: unknown\n",
      "    pc file directory: unknown\n",
      "    version: 1.26.4\n",
      "Compilers:\n",
      "  c:\n",
      "    commands: cl\n",
      "    linker: link\n",
      "    name: msvc\n",
      "    version: 19.29.30153\n",
      "  c++:\n",
      "    commands: cl\n",
      "    linker: link\n",
      "    name: msvc\n",
      "    version: 19.29.30153\n",
      "  cython:\n",
      "    commands: cython\n",
      "    linker: cython\n",
      "    name: cython\n",
      "    version: 3.0.8\n",
      "Machine Information:\n",
      "  build:\n",
      "    cpu: x86_64\n",
      "    endian: little\n",
      "    family: x86_64\n",
      "    system: windows\n",
      "  host:\n",
      "    cpu: x86_64\n",
      "    endian: little\n",
      "    family: x86_64\n",
      "    system: windows\n",
      "Python Information:\n",
      "  path: C:\\Users\\runneradmin\\AppData\\Local\\Temp\\cibw-run-g7slqwov\\cp312-win_amd64\\build\\venv\\Scripts\\python.exe\n",
      "  version: '3.12'\n",
      "SIMD Extensions:\n",
      "  baseline:\n",
      "  - SSE\n",
      "  - SSE2\n",
      "  - SSE3\n",
      "  found:\n",
      "  - SSSE3\n",
      "  - SSE41\n",
      "  - POPCNT\n",
      "  - SSE42\n",
      "  - AVX\n",
      "  - F16C\n",
      "  - FMA3\n",
      "  - AVX2\n",
      "  not found:\n",
      "  - AVX512F\n",
      "  - AVX512CD\n",
      "  - AVX512_SKX\n",
      "  - AVX512_CLX\n",
      "  - AVX512_CNL\n",
      "  - AVX512_ICL\n",
      "\n"
     ]
    }
   ],
   "source": [
    "print(np.__version__) #con esto revisamos la versión correspondiente\n",
    "np.show_config() #con esto se muestran datos técnicos de la instalación de numpy además de datos de la máquina"
   ]
  },
  {
   "cell_type": "code",
   "execution_count": 3,
   "metadata": {},
   "outputs": [
    {
     "name": "stdout",
     "output_type": "stream",
     "text": [
      "[0. 0. 0. 0. 0. 0. 0. 0. 0. 0.]\n"
     ]
    }
   ],
   "source": [
    "# creamos una cadena (matriz) de 10 ceros, recordar que estamos usando numpy\n",
    "z = np.zeros(10)\n",
    "print(z)"
   ]
  },
  {
   "cell_type": "code",
   "execution_count": 5,
   "metadata": {},
   "outputs": [
    {
     "name": "stdout",
     "output_type": "stream",
     "text": [
      "800 bytes\n"
     ]
    }
   ],
   "source": [
    "# con esto se revisa el tamaño que utiliza este codigo (en este caso, una matriz)\n",
    "z = np.zeros((10,10))\n",
    "print(\"%d bytes\" % (z.size * z.itemsize))"
   ]
  },
  {
   "cell_type": "code",
   "execution_count": 8,
   "metadata": {},
   "outputs": [
    {
     "name": "stdout",
     "output_type": "stream",
     "text": [
      "[0. 0. 0. 0. 1. 0. 0. 0. 0. 0.]\n"
     ]
    }
   ],
   "source": [
    "# crear una matriz de 9 ceros, pero en medio con un número uno\n",
    "z = np.zeros(10)\n",
    "z[4] = 1  #acá es donde se inserta el numero 1 en la cadena, esta se podría editar en cualquier posición\n",
    "print(z)"
   ]
  },
  {
   "cell_type": "code",
   "execution_count": 4,
   "metadata": {},
   "outputs": [
    {
     "name": "stdout",
     "output_type": "stream",
     "text": [
      "[10 11 12 13 14 15 16 17 18 19 20 21 22 23 24 25 26 27 28 29 30 31 32 33\n",
      " 34 35 36 37 38 39 40 41 42 43 44 45 46 47 48 49]\n"
     ]
    }
   ],
   "source": [
    "# crear una matriz de 10x50 \n",
    "z = np.arange(10,50)\n",
    "print(z)\n"
   ]
  },
  {
   "cell_type": "code",
   "execution_count": 5,
   "metadata": {},
   "outputs": [
    {
     "name": "stdout",
     "output_type": "stream",
     "text": [
      "[49 48 47 46 45 44 43 42 41 40 39 38 37 36 35 34 33 32 31 30 29 28 27 26\n",
      " 25 24 23 22 21 20 19 18 17 16 15 14 13 12 11 10  9  8  7  6  5  4  3  2\n",
      "  1  0]\n"
     ]
    }
   ],
   "source": [
    "# revertir una cadena o matriz\n",
    "z = np.arange(50)\n",
    "z = z[::-1] #esto es lo que realiza que la cadena se muestre de manera inversa\n",
    "print(z)\n",
    "# recordar que python parte de 0, por lo que el número final es el 49"
   ]
  },
  {
   "cell_type": "code",
   "execution_count": 6,
   "metadata": {},
   "outputs": [
    {
     "name": "stdout",
     "output_type": "stream",
     "text": [
      "[[0 1 2]\n",
      " [3 4 5]\n",
      " [6 7 8]]\n"
     ]
    }
   ],
   "source": [
    "# crear una matriz de 3x3\n",
    "z = np.arange(9).reshape(3,3) #acordarse del reshape, ya que es el fila/columna RECORDAR\n",
    "print(z)"
   ]
  },
  {
   "cell_type": "code",
   "execution_count": 7,
   "metadata": {},
   "outputs": [
    {
     "name": "stdout",
     "output_type": "stream",
     "text": [
      "(array([0, 1, 4], dtype=int64),)\n"
     ]
    }
   ],
   "source": [
    "# Devuelve los índices de los elementos distintos de cero.\n",
    "nz = np.nonzero([1,2,0,0,4,0])\n",
    "print(nz)"
   ]
  },
  {
   "cell_type": "code",
   "execution_count": 8,
   "metadata": {},
   "outputs": [
    {
     "name": "stdout",
     "output_type": "stream",
     "text": [
      "[[1. 0. 0. 0. 0. 0. 0. 0. 0. 0.]\n",
      " [0. 1. 0. 0. 0. 0. 0. 0. 0. 0.]\n",
      " [0. 0. 1. 0. 0. 0. 0. 0. 0. 0.]\n",
      " [0. 0. 0. 1. 0. 0. 0. 0. 0. 0.]\n",
      " [0. 0. 0. 0. 1. 0. 0. 0. 0. 0.]\n",
      " [0. 0. 0. 0. 0. 1. 0. 0. 0. 0.]\n",
      " [0. 0. 0. 0. 0. 0. 1. 0. 0. 0.]\n",
      " [0. 0. 0. 0. 0. 0. 0. 1. 0. 0.]\n",
      " [0. 0. 0. 0. 0. 0. 0. 0. 1. 0.]\n",
      " [0. 0. 0. 0. 0. 0. 0. 0. 0. 1.]]\n"
     ]
    }
   ],
   "source": [
    "# crear una matiz identica de 3x3 con unos en diagonal\n",
    "z = np.eye(10) #.reshape(20,5) el reshape lo dejé para jugar no más\n",
    "print(z)"
   ]
  },
  {
   "cell_type": "code",
   "execution_count": 9,
   "metadata": {},
   "outputs": [
    {
     "name": "stdout",
     "output_type": "stream",
     "text": [
      "[[[0.53313156 0.6858997  0.03517268]\n",
      "  [0.83267932 0.78791098 0.88046054]\n",
      "  [0.03475963 0.88973943 0.7479427 ]]\n",
      "\n",
      " [[0.96616031 0.42411759 0.97272976]\n",
      "  [0.05837829 0.73077266 0.87998377]\n",
      "  [0.78693378 0.0226296  0.84177134]]\n",
      "\n",
      " [[0.94086943 0.71314264 0.9385926 ]\n",
      "  [0.62497535 0.80024157 0.6556075 ]\n",
      "  [0.35998511 0.11233169 0.36165052]]]\n"
     ]
    }
   ],
   "source": [
    "# crear una matriz con datos random de 3 dimensiones\n",
    "z = np.random.random((3,3,3))\n",
    "print(z)"
   ]
  },
  {
   "cell_type": "code",
   "execution_count": 10,
   "metadata": {},
   "outputs": [
    {
     "name": "stdout",
     "output_type": "stream",
     "text": [
      "0.004120987567841072 0.9900072778335995\n"
     ]
    }
   ],
   "source": [
    "# crear una matriz de 10x10 con datos random y encontrar sus minimos y maximos respectivos\n",
    "z = np.random.random((10,10)) #genera la matriz\n",
    "# print(z)\n",
    "zmin,zmax = z.min(),z.max() #filtra los minimos y maximos de la cadena\n",
    "print(zmin,zmax)"
   ]
  },
  {
   "cell_type": "code",
   "execution_count": 11,
   "metadata": {},
   "outputs": [
    {
     "name": "stdout",
     "output_type": "stream",
     "text": [
      "0.5368306325592173\n"
     ]
    }
   ],
   "source": [
    "# crear una matriz con datos random de 30 y encontrar la media\n",
    "z = np.random.random((30)) #genera los datos de 30 valoresn en un array\n",
    "# print(z)\n",
    "m = z.mean() #busca el numero media del array\n",
    "print(m)"
   ]
  },
  {
   "cell_type": "code",
   "execution_count": null,
   "metadata": {},
   "outputs": [],
   "source": [
    "# sacarle los corchetes a los arrays\n",
    "lista = np.arange(1,41).reshape(10,4) #genera el rango numerico y distribución fila columna\n",
    "# cichlo for\n",
    "for fila in lista:\n",
    "    print(*fila)"
   ]
  },
  {
   "cell_type": "markdown",
   "metadata": {},
   "source": [
    "COLORES EN PYTHON"
   ]
  },
  {
   "cell_type": "code",
   "execution_count": 12,
   "metadata": {},
   "outputs": [],
   "source": [
    "# Importar colorama - para agregar colorcillos en los textos\n",
    "from colorama import *"
   ]
  },
  {
   "cell_type": "code",
   "execution_count": 13,
   "metadata": {},
   "outputs": [
    {
     "name": "stdout",
     "output_type": "stream",
     "text": [
      "\u001b[36mtexto cyan\n",
      "\u001b[42mbackground verde\n",
      "\u001b[2mand in dim text\n",
      "\u001b[0m\n",
      "\u001b[31mjfhksd\n",
      "back to normal now\n"
     ]
    }
   ],
   "source": [
    "# colores de textos como ejemplos\n",
    "print(Fore.CYAN + 'texto cyan')\n",
    "print(Back.GREEN + 'background verde')\n",
    "print(Style.DIM + 'and in dim text')\n",
    "print(Style.RESET_ALL)\n",
    "print(Fore.RED + f'jfhksd')\n",
    "print('back to normal now')"
   ]
  },
  {
   "cell_type": "code",
   "execution_count": 14,
   "metadata": {},
   "outputs": [
    {
     "name": "stdout",
     "output_type": "stream",
     "text": [
      "[[1. 1. 1. 1. 1. 1. 1. 1. 1. 1.]\n",
      " [1. 0. 0. 0. 0. 0. 0. 0. 0. 1.]\n",
      " [1. 0. 0. 0. 0. 0. 0. 0. 0. 1.]\n",
      " [1. 0. 0. 0. 0. 0. 0. 0. 0. 1.]\n",
      " [1. 0. 0. 0. 0. 0. 0. 0. 0. 1.]\n",
      " [1. 0. 0. 0. 0. 0. 0. 0. 0. 1.]\n",
      " [1. 0. 0. 0. 0. 0. 0. 0. 0. 1.]\n",
      " [1. 0. 0. 0. 0. 0. 0. 0. 0. 1.]\n",
      " [1. 0. 0. 0. 0. 0. 0. 0. 0. 1.]\n",
      " [1. 1. 1. 1. 1. 1. 1. 1. 1. 1.]]\n"
     ]
    }
   ],
   "source": [
    "# crear una matriz 2d pero que sea rodeada de unos\n",
    "# ejemplo\n",
    "# 1 1 1 1\n",
    "# 1 0 0 1\n",
    "# 1 1 1 1\n",
    "z = np.ones((10,10)) #crea una matriz de 10x10 \n",
    "# print(z)\n",
    "z[1:-1,1:-1] = 0\n",
    "print(z)"
   ]
  },
  {
   "cell_type": "code",
   "execution_count": 15,
   "metadata": {},
   "outputs": [
    {
     "name": "stdout",
     "output_type": "stream",
     "text": [
      "[[0. 0. 0. 0. 0. 0. 0.]\n",
      " [0. 1. 1. 1. 1. 1. 0.]\n",
      " [0. 1. 1. 1. 1. 1. 0.]\n",
      " [0. 1. 1. 1. 1. 1. 0.]\n",
      " [0. 1. 1. 1. 1. 1. 0.]\n",
      " [0. 1. 1. 1. 1. 1. 0.]\n",
      " [0. 0. 0. 0. 0. 0. 0.]]\n"
     ]
    }
   ],
   "source": [
    "# agregar un borde con ceros en una matriz que ya existe\n",
    "z = np.ones((5,5))\n",
    "# print(z)\n",
    "# np.pad en NumPy se utiliza para agregar relleno a un array NumPy. Puedes especificar el ancho del relleno y los valores de relleno para cada borde del array.\n",
    "z = np.pad(z, pad_width=1, mode='constant', constant_values=0)\n",
    "print(z)"
   ]
  },
  {
   "cell_type": "code",
   "execution_count": 16,
   "metadata": {},
   "outputs": [
    {
     "name": "stdout",
     "output_type": "stream",
     "text": [
      "[[0. 0. 0. 0. 0. 0. 0. 0. 0. 0.]\n",
      " [0. 1. 1. 1. 1. 1. 1. 1. 1. 0.]\n",
      " [0. 1. 1. 1. 1. 1. 1. 1. 1. 0.]\n",
      " [0. 1. 1. 1. 1. 1. 1. 1. 1. 0.]\n",
      " [0. 1. 1. 1. 1. 1. 1. 1. 1. 0.]\n",
      " [0. 1. 1. 1. 1. 1. 1. 1. 1. 0.]\n",
      " [0. 1. 1. 1. 1. 1. 1. 1. 1. 0.]\n",
      " [0. 1. 1. 1. 1. 1. 1. 1. 1. 0.]\n",
      " [0. 1. 1. 1. 1. 1. 1. 1. 1. 0.]\n",
      " [0. 0. 0. 0. 0. 0. 0. 0. 0. 0.]]\n"
     ]
    }
   ],
   "source": [
    "# usando un indexado más bonito para las matrices \n",
    "z = np.ones((10,10))\n",
    "\n",
    "z[:, [0, -1]] = 0 # asigna el valor 0 a todas las filas de la primera y última columna de la matriz Z\n",
    "z[[0, -1], :] = 0 # asigna el valor 0 a la primera y última fila de todas las columnas de la matriz Z\n",
    "print(z)"
   ]
  },
  {
   "cell_type": "code",
   "execution_count": 17,
   "metadata": {},
   "outputs": [
    {
     "data": {
      "text/plain": [
       "False"
      ]
     },
     "execution_count": 17,
     "metadata": {},
     "output_type": "execute_result"
    }
   ],
   "source": [
    "# resultado de la siguiente expresión\n",
    "# ojo, nan es NaN = not a number\n",
    "0 * np.nan\n",
    "np.nan == np.nan # En NumPy, la comparación de NaN con NaN devuelve False, ya que NaN se considera un valor \"no numérico\n",
    "np.inf > np.nan # En NumPy, infinito (inf) se considera mayor que NaN, ya que NaN se considera un valor \"no numérico\n",
    "np.nan - np.nan # Restar NaN de NaN resulta en NaN\n",
    "np.nan in set([np.nan]) # NaN está presente en el conjunto que contiene NaN, por lo tanto, devuelve True\n",
    "0.3 == 3 * 0.1 # Debido a problemas de representación en punto flotante, esta expresión puede no dar como resultado True en todos los casos, ya que 0.1 no puede representarse con precisión en binario. Por lo tanto, puede dar como resultado False en algunos casos debido a errores de redondeo en la representación de números de punto flotante"
   ]
  },
  {
   "cell_type": "code",
   "execution_count": 18,
   "metadata": {},
   "outputs": [
    {
     "name": "stdout",
     "output_type": "stream",
     "text": [
      "[[0 0 0 0 0]\n",
      " [1 0 0 0 0]\n",
      " [0 2 0 0 0]\n",
      " [0 0 3 0 0]\n",
      " [0 0 0 4 0]]\n"
     ]
    }
   ],
   "source": [
    "# crear una matriz de 5x5  con valores 1,2,3.4 justo debajo de la diagonal\n",
    "z = np.diag(1+np.arange(4),k=-1)\n",
    "print(z)"
   ]
  },
  {
   "cell_type": "code",
   "execution_count": 19,
   "metadata": {},
   "outputs": [
    {
     "name": "stdout",
     "output_type": "stream",
     "text": [
      "[[0 1 0 1 0 1 0 1]\n",
      " [5 0 5 0 5 0 5 0]\n",
      " [0 1 0 1 0 1 0 1]\n",
      " [5 0 5 0 5 0 5 0]\n",
      " [0 1 0 1 0 1 0 1]\n",
      " [5 0 5 0 5 0 5 0]\n",
      " [0 1 0 1 0 1 0 1]\n",
      " [5 0 5 0 5 0 5 0]]\n"
     ]
    }
   ],
   "source": [
    "# crear una matriz de 10x10 y generarla a lo tablero de ajedrez 1 0 1 0 1 \n",
    "z = np.zeros((8,8), dtype=int) #el dtype quita los puntos de la matriz\n",
    "z[1::2,::2] = 5\n",
    "z[::2,1::2] = 1\n",
    "print(z)"
   ]
  },
  {
   "cell_type": "code",
   "execution_count": 20,
   "metadata": {},
   "outputs": [
    {
     "name": "stdout",
     "output_type": "stream",
     "text": [
      "(1, 5, 3)\n"
     ]
    }
   ],
   "source": [
    "# Considere una matriz de formas (6,7,8), ¿cuál es el índice (x,y,z) del elemento número 100?\n",
    "matriz = np.unravel_index(99,(6,7,8))\n",
    "print(matriz)"
   ]
  },
  {
   "cell_type": "code",
   "execution_count": 21,
   "metadata": {},
   "outputs": [
    {
     "name": "stdout",
     "output_type": "stream",
     "text": [
      "[[0 5 0 5 0 5 0 5]\n",
      " [1 0 1 0 1 0 1 0]\n",
      " [0 5 0 5 0 5 0 5]\n",
      " [1 0 1 0 1 0 1 0]\n",
      " [0 5 0 5 0 5 0 5]\n",
      " [1 0 1 0 1 0 1 0]\n",
      " [0 5 0 5 0 5 0 5]\n",
      " [1 0 1 0 1 0 1 0]]\n"
     ]
    }
   ],
   "source": [
    "# crear una matriz de 8x8 como ajedrez\n",
    "z = np.tile(np.array([[0,5],[1,0]]), (4,4))\n",
    "print(z)"
   ]
  },
  {
   "cell_type": "code",
   "execution_count": 22,
   "metadata": {},
   "outputs": [
    {
     "name": "stdout",
     "output_type": "stream",
     "text": [
      "matriz sin normalizar\n",
      " [[0.86982227 0.41102378 0.7586757  0.92651019 0.06202736]\n",
      " [0.17591142 0.94960559 0.50028222 0.12795387 0.2011426 ]\n",
      " [0.32666526 0.34799505 0.48935835 0.34191943 0.45025309]\n",
      " [0.30997333 0.18235441 0.39648159 0.70480566 0.47305973]\n",
      " [0.85142269 0.01813358 0.41748671 0.18385647 0.07045802]]\n",
      "matriz normalizada\n",
      " [[ 1.63094605 -0.03955382  1.22625786  1.83734857 -1.31026088]\n",
      " [-0.89560539  1.92143966  0.28543899 -1.07022034 -0.80373785]\n",
      " [-0.34670586 -0.26904344  0.24566485 -0.29116496  0.10328134]\n",
      " [-0.40748172 -0.87214625 -0.0925024   1.03011533  0.18632105]\n",
      " [ 1.56395259 -1.4700795  -0.0160221  -0.8666772  -1.27956457]]\n"
     ]
    }
   ],
   "source": [
    "# normalizar una matriz aleatoria de 5x5\n",
    "z = np.random.random((5,5))\n",
    "print(\"matriz sin normalizar\\n\",z) #impresion de la matriz sin normalizar\n",
    "z = (z - np.mean(z)) / (np.std(z)) # se resta la media y se divide por la desviaación estandar de la matriz\n",
    "print(\"matriz normalizada\\n\",z)"
   ]
  },
  {
   "cell_type": "code",
   "execution_count": 23,
   "metadata": {},
   "outputs": [
    {
     "name": "stdout",
     "output_type": "stream",
     "text": [
      "[[3. 3.]\n",
      " [3. 3.]\n",
      " [3. 3.]\n",
      " [3. 3.]\n",
      " [3. 3.]]\n"
     ]
    }
   ],
   "source": [
    "# multiplicar una matriz de 5x3 * 3x2\n",
    "z = np.dot(np.ones((5,3)), np.ones((3,2)))\n",
    "print(z)\n"
   ]
  },
  {
   "cell_type": "code",
   "execution_count": 24,
   "metadata": {},
   "outputs": [
    {
     "name": "stdout",
     "output_type": "stream",
     "text": [
      "[[3. 3.]\n",
      " [3. 3.]\n",
      " [3. 3.]\n",
      " [3. 3.]\n",
      " [3. 3.]]\n"
     ]
    }
   ],
   "source": [
    "# solución de arriba para versiones actuales de python\n",
    "z = np.ones((5,3)) @ np.ones((3,2))\n",
    "print(z)"
   ]
  },
  {
   "cell_type": "code",
   "execution_count": 25,
   "metadata": {},
   "outputs": [
    {
     "name": "stdout",
     "output_type": "stream",
     "text": [
      "[ 0  1  2  3 -4 -5 -6 -7  8  9]\n"
     ]
    }
   ],
   "source": [
    "# realizar un array de 1D y dejar en negativo los elementos que estén entre el 3 y el 8\n",
    "z = np.arange(10)\n",
    "z[(3 < z) & (z < 8)] *= -1\n",
    "print(z)"
   ]
  },
  {
   "cell_type": "code",
   "execution_count": 26,
   "metadata": {},
   "outputs": [
    {
     "name": "stdout",
     "output_type": "stream",
     "text": [
      "nan\n",
      "0\n",
      "[-2.14748365e+09]\n"
     ]
    },
    {
     "name": "stderr",
     "output_type": "stream",
     "text": [
      "C:\\Users\\patri\\AppData\\Local\\Temp\\ipykernel_27692\\588866980.py:1: RuntimeWarning: invalid value encountered in divide\n",
      "  print(np.array(0) / np.array(0)) # intenta dividir dos arrays, ambos conteniendo el valor 0. Esto generará un \"warning\" de división por cero y el resultado será nan (Not a Number) en un array de punto flotante.\n",
      "C:\\Users\\patri\\AppData\\Local\\Temp\\ipykernel_27692\\588866980.py:2: RuntimeWarning: divide by zero encountered in floor_divide\n",
      "  print(np.array(0) // np.array(0)) # Similar al caso anterior, pero utilizando la división entera (//). También generará un \"warning\" de división por cero y el resultado será 0 en un array de tipo entero.\n",
      "C:\\Users\\patri\\AppData\\Local\\Temp\\ipykernel_27692\\588866980.py:3: RuntimeWarning: invalid value encountered in cast\n",
      "  print(np.array([np.nan]).astype(int).astype(float)) #  Aquí se crea un array con un valor nan, luego se convierte a tipo entero (lo cual convierte nan a -9223372036854775808 en sistemas de 64 bits), y finalmente se convierte de nuevo a tipo flotante, resultando en -9.22337204e+18\n"
     ]
    }
   ],
   "source": [
    "print(np.array(0) / np.array(0)) # intenta dividir dos arrays, ambos conteniendo el valor 0. Esto generará un \"warning\" de división por cero y el resultado será nan (Not a Number) en un array de punto flotante.\n",
    "print(np.array(0) // np.array(0)) # Similar al caso anterior, pero utilizando la división entera (//). También generará un \"warning\" de división por cero y el resultado será 0 en un array de tipo entero.\n",
    "print(np.array([np.nan]).astype(int).astype(float)) #  Aquí se crea un array con un valor nan, luego se convierte a tipo entero (lo cual convierte nan a -9223372036854775808 en sistemas de 64 bits), y finalmente se convierte de nuevo a tipo flotante, resultando en -9.22337204e+18"
   ]
  },
  {
   "cell_type": "code",
   "execution_count": 27,
   "metadata": {},
   "outputs": [
    {
     "name": "stdout",
     "output_type": "stream",
     "text": [
      "[-8. -7.  6. -9. -3. -3.  8.  4.  1. -1.]\n"
     ]
    }
   ],
   "source": [
    "# redondear desde cero una matriz con numeros float\n",
    "z = np.random.uniform(-10,+10,10)\n",
    "print(np.copysign(np.ceil(np.abs(z)),z))"
   ]
  },
  {
   "cell_type": "code",
   "execution_count": 28,
   "metadata": {},
   "outputs": [
    {
     "name": "stdout",
     "output_type": "stream",
     "text": [
      "[-8. -7.  6. -9. -3. -3.  8.  4.  1. -1.]\n"
     ]
    }
   ],
   "source": [
    "# más legible que el de arriba, pero menos eficiente\n",
    "mat = np.where(z>0,np.ceil(z),np.floor(z))\n",
    "print(mat)"
   ]
  },
  {
   "cell_type": "code",
   "execution_count": 29,
   "metadata": {},
   "outputs": [
    {
     "name": "stdout",
     "output_type": "stream",
     "text": [
      "matrices random:\n",
      " [2 2 4 8 4 6 9 7 1 9] [7 5 4 7 4 0 2 4 1 3]\n",
      "numeros en común:\n",
      " [1 2 4 7]\n"
     ]
    }
   ],
   "source": [
    "# Cómo encontrar valores comunes entre 2 arrays?\n",
    "z1 = np.random.randint(0,10,10)\n",
    "z2 = np.random.randint(0,10,10)\n",
    "print(\"matrices random:\\n\",z1,z2)\n",
    "print(\"numeros en común:\\n\", np.intersect1d(z1,z2))"
   ]
  },
  {
   "cell_type": "markdown",
   "metadata": {},
   "source": [
    "ejemplos de fechas, tanto con librería datetime como con numpy"
   ]
  },
  {
   "cell_type": "code",
   "execution_count": 30,
   "metadata": {},
   "outputs": [
    {
     "name": "stdout",
     "output_type": "stream",
     "text": [
      "la fecha de hoy es (hecho con librería datetime): 2024-05-02\n",
      "la fecha de hoy es (hecho con numpy): 2024-05-02\n"
     ]
    }
   ],
   "source": [
    "import datetime # se importa la librería datetime\n",
    "# obtener los formatos de fecha necesarios\n",
    "fecha_hoy = datetime.date.today()\n",
    "print(\"la fecha de hoy es (hecho con librería datetime):\",fecha_hoy)\n",
    "\n",
    "hoydia = np.datetime64('today')\n",
    "print(\"la fecha de hoy es (hecho con numpy):\",hoydia)\n"
   ]
  },
  {
   "cell_type": "code",
   "execution_count": 31,
   "metadata": {},
   "outputs": [
    {
     "name": "stdout",
     "output_type": "stream",
     "text": [
      "Año: 2024\n",
      "Mes: 2024-05\n",
      "Día: 2024-05-02\n"
     ]
    }
   ],
   "source": [
    "# desestructurar fechas\n",
    "fecha = np.datetime64('today')  # Ejemplo de fecha en formato numpy\n",
    "\n",
    "# Obtener los componentes individuales\n",
    "año = np.datetime_as_string(fecha, unit='Y')\n",
    "mes = np.datetime_as_string(fecha, unit='M')\n",
    "dia = np.datetime_as_string(fecha, unit='D')\n",
    "\n",
    "print(\"Año:\", año)\n",
    "print(\"Mes:\", mes)\n",
    "print(\"Día:\", dia)"
   ]
  },
  {
   "cell_type": "code",
   "execution_count": 32,
   "metadata": {},
   "outputs": [
    {
     "name": "stdout",
     "output_type": "stream",
     "text": [
      "si me preguntan que dia es hoy, estamos a 02 del 05 del 2024\n"
     ]
    }
   ],
   "source": [
    "# ahora desestructurado de panini, para que se pueda personalizar una fecha puntual (mas fancy)\n",
    "\n",
    "fecha = np.datetime64('today')  # Ejemplo de fecha en formato numpy\n",
    "# Obtener sólo el año\n",
    "año = np.datetime_as_string(fecha, unit='Y').split('-')[0] #con el split, quitamos el guión, generando separación y desestructuramos\n",
    "# Obtener solo el mes\n",
    "mes = np.datetime_as_string(fecha, unit='M').split('-')[1] #con el split, quitamos el guión, generando separación y desestructuramos\n",
    "# Obtener sólo el dia\n",
    "dia = np.datetime_as_string(fecha, unit='D').split('-')[2] #con el split, quitamos el guión, generando separación y desestructuramos\n",
    "\n",
    "# y ahora usaremos f strings para ahorrarnos espacio\n",
    "print(f'si me preguntan que dia es hoy, estamos a {dia} del {mes} del {año}')"
   ]
  },
  {
   "cell_type": "code",
   "execution_count": 33,
   "metadata": {},
   "outputs": [
    {
     "name": "stdout",
     "output_type": "stream",
     "text": [
      "Mes: May\n",
      "Año: 2024\n",
      "esto sólo sale en inglés, más abajo está la formula para español, pero figuraría de la siguiente manera:\n",
      "        Today is 05 2, 2024\n",
      "        le añadí un cero, para que no se viera mal\n",
      "      \n"
     ]
    }
   ],
   "source": [
    "# acá haremos otro truco, colocar en vez de la fecha numérica, con su respectivo nombre\n",
    "import calendar #libreria calendar\n",
    "\n",
    "fecha = np.datetime64('today')  # Ejemplo de fecha en formato numpy para hoy\n",
    "\n",
    "# Obtener el mes como nombre completo\n",
    "dia_num = int(np.datetime_as_string(fecha, unit='D').split('-')[2])\n",
    "mes_num = int(np.datetime_as_string(fecha, unit='M').split('-')[1])\n",
    "nombre_mes = calendar.month_name[mes_num] #acá le tenía un número, mietras que le podíamos poner la variable mes_num jaja\n",
    "\n",
    "# Obtener el año\n",
    "año = np.datetime_as_string(fecha, unit='Y')\n",
    "\n",
    "print(\"Mes:\", nombre_mes)\n",
    "print(\"Año:\", año)\n",
    "print(f\"\"\"esto sólo sale en inglés, más abajo está la formula para español, pero figuraría de la siguiente manera:\n",
    "        Today is 0{mes_num} {dia_num}, {año}\n",
    "        le añadí un cero, para que no se viera mal\n",
    "      \"\"\")"
   ]
  },
  {
   "cell_type": "markdown",
   "metadata": {},
   "source": [
    "fecha con numpy y datetime, ojo que se puede realizar de varias formas, pero esta es la que aprovecha las variables de numpy y solo utiliza datetime para definir los dias"
   ]
  },
  {
   "cell_type": "code",
   "execution_count": 35,
   "metadata": {},
   "outputs": [
    {
     "name": "stdout",
     "output_type": "stream",
     "text": [
      "Santiago, jueves 2 de mayo de 2024\n"
     ]
    }
   ],
   "source": [
    "# aparte de numpy, debemos importar datetime\n",
    "import datetime\n",
    "import numpy as np\n",
    "# FECHA CON NOMBRES EN ESPAÑOL\n",
    "# Definir un diccionario de nombres de meses en español\n",
    "meses_espanol = {\n",
    "    1: \"enero\", \n",
    "    2: \"febrero\", \n",
    "    3: \"marzo\", \n",
    "    4: \"abril\",\n",
    "    5: \"mayo\", \n",
    "    6: \"junio\", \n",
    "    7: \"julio\", \n",
    "    8: \"agosto\",\n",
    "    9: \"septiembre\", \n",
    "    10: \"octubre\", \n",
    "    11: \"noviembre\", \n",
    "    12: \"diciembre\"\n",
    "}\n",
    "# Definir un diccionario con los dias en español para datetime\n",
    "dias_semana = [\n",
    "    'lunes', \n",
    "    'martes', \n",
    "    'miércoles', \n",
    "    'jueves', \n",
    "    'viernes', \n",
    "    'sábado', \n",
    "    'domingo'\n",
    "]\n",
    "fecha = np.datetime64('today')  # Ejemplo de fecha en formato numpy\n",
    "\n",
    "# Obtener el mes como nombre completo en español\n",
    "mes_num = int(np.datetime_as_string(fecha, unit='M').split('-')[1]) #con el split, quitamos el guión, generando separación y desestructuramos\n",
    "dia_num = int(np.datetime_as_string(fecha, unit='D').split('-')[2]) #con el split, quitamos el guión, generando separación y desestructuramos\n",
    "# Obtener las fechas respectivas\n",
    "anio = np.datetime_as_string(fecha, unit='Y')\n",
    "nombre_mes = meses_espanol[mes_num]\n",
    "\n",
    "nombre_dia = dias_semana[datetime.date.today().weekday()] # aca se ocupa atributos de datetime + diccionario\n",
    "\n",
    "# ahora con f strings \n",
    "print(f'Santiago, {nombre_dia} {dia_num} de {nombre_mes} de {anio}')"
   ]
  },
  {
   "cell_type": "code",
   "execution_count": 36,
   "metadata": {},
   "outputs": [
    {
     "name": "stdout",
     "output_type": "stream",
     "text": [
      "['2023-04-01' '2023-04-02' '2023-04-03' '2023-04-04' '2023-04-05'\n",
      " '2023-04-06' '2023-04-07' '2023-04-08' '2023-04-09' '2023-04-10'\n",
      " '2023-04-11' '2023-04-12' '2023-04-13' '2023-04-14' '2023-04-15'\n",
      " '2023-04-16' '2023-04-17' '2023-04-18' '2023-04-19' '2023-04-20'\n",
      " '2023-04-21' '2023-04-22' '2023-04-23' '2023-04-24' '2023-04-25'\n",
      " '2023-04-26' '2023-04-27' '2023-04-28' '2023-04-29' '2023-04-30']\n"
     ]
    }
   ],
   "source": [
    "# obtener un listado con rango de fechas (un mes para ser específico)\n",
    "z = np.arange('2023-04','2023-05', dtype='datetime64[D]') #el datetime extrae los dias\n",
    "divisiones = z.reshape(3,10) #donde es un array, podemos hacer reshape a ciertas fechas parejas, como las matrices \n",
    "print(z)\n",
    "# y si queremos sacarle el corchete, usamos *\n",
    "# print(*z)"
   ]
  },
  {
   "cell_type": "code",
   "execution_count": 37,
   "metadata": {},
   "outputs": [
    {
     "name": "stdout",
     "output_type": "stream",
     "text": [
      "[1. 1. 1.] [2. 2. 2.]\n"
     ]
    },
    {
     "data": {
      "text/plain": [
       "array([-1.5, -1.5, -1.5])"
      ]
     },
     "execution_count": 37,
     "metadata": {},
     "output_type": "execute_result"
    }
   ],
   "source": [
    "# ¿Cómo calcular ((A+B)*(-A/2)) en su lugar (sin copia)?\n",
    "\n",
    "A = np.ones(3)*1 # se crea una matriz | Resultado: A = array([1., 1., 1.])\n",
    "B = np.ones(3)*2 # se crea una matriz | Resultado: B = array([2., 2., 2.])\n",
    "print(f'{A} {B}')\n",
    "\n",
    "np.add(A,B,out=B) # Suma los elementos de los arrays A y B, y guarda el resultado en B. Resultado: B = array([3., 3., 3.])\n",
    "np.divide(A,2,out=A) # Resultado: A = array([0.5, 0.5, 0.5])\n",
    "np.negative(A,out=A) #Resultado: A = array([-0.5, -0.5, -0.5])\n",
    "np.multiply(A,B,out=A) #Resultado: A = array([-1.5, -1.5, -1.5])"
   ]
  },
  {
   "cell_type": "code",
   "execution_count": 38,
   "metadata": {},
   "outputs": [
    {
     "name": "stdout",
     "output_type": "stream",
     "text": [
      "[9.72734111 4.41632164 2.21126068 2.76369383 8.12915777 9.57313674\n",
      " 0.50529845 9.58233116 4.97947192 8.63924646]\n",
      "[9. 4. 2. 2. 8. 9. 0. 9. 4. 8.]\n",
      "[9. 4. 2. 2. 8. 9. 0. 9. 4. 8.]\n",
      "[9. 4. 2. 2. 8. 9. 0. 9. 4. 8.]\n",
      "[9 4 2 2 8 9 0 9 4 8]\n",
      "[9. 4. 2. 2. 8. 9. 0. 9. 4. 8.]\n"
     ]
    }
   ],
   "source": [
    "z = np.random.uniform(0,10,10) # un array con 10 cosas\n",
    "print(z) #arroja el array con los 10 elementos \n",
    "print(z - z%1) # arroja los primeros numeros de cada elemento del array\n",
    "print(z // 1) # realiza lo mismo que la función de arriba\n",
    "print(np.floor(z)) # realiza lo mismo que las funciones de arriba\n",
    "print(z.astype(int)) # devuelve los primeros números, pero sin los puntos, como int\n",
    "print(np.trunc(z)) # truncado.\n"
   ]
  },
  {
   "cell_type": "code",
   "execution_count": 39,
   "metadata": {},
   "outputs": [
    {
     "name": "stdout",
     "output_type": "stream",
     "text": [
      "[[0. 1. 2. 3. 4.]\n",
      " [0. 1. 2. 3. 4.]\n",
      " [0. 1. 2. 3. 4.]\n",
      " [0. 1. 2. 3. 4.]\n",
      " [0. 1. 2. 3. 4.]]\n"
     ]
    }
   ],
   "source": [
    "# genera una matriz de 4x4 con valores raw\n",
    "z = np.zeros((5,5))\n",
    "z +=np.arange(5)\n",
    "print(z)"
   ]
  },
  {
   "cell_type": "code",
   "execution_count": 40,
   "metadata": {},
   "outputs": [
    {
     "name": "stdout",
     "output_type": "stream",
     "text": [
      "[[0 1 2 3 4]\n",
      " [0 1 2 3 4]\n",
      " [0 1 2 3 4]\n",
      " [0 1 2 3 4]\n",
      " [0 1 2 3 4]]\n"
     ]
    }
   ],
   "source": [
    "# otra alternativa, sin puntos\n",
    "z = np.tile(np.arange(0,5),(5,1))\n",
    "print(z)"
   ]
  },
  {
   "cell_type": "code",
   "execution_count": 41,
   "metadata": {},
   "outputs": [
    {
     "name": "stdout",
     "output_type": "stream",
     "text": [
      "\n",
      "array con puntos \n",
      " [ 0.  1.  2.  3.  4.  5.  6.  7.  8.  9. 10. 11. 12. 13. 14. 15. 16. 17.\n",
      " 18. 19. 20. 21. 22. 23. 24. 25. 26. 27. 28. 29. 30. 31. 32. 33. 34. 35.\n",
      " 36. 37. 38. 39. 40. 41. 42. 43. 44. 45. 46. 47. 48. 49. 50. 51. 52. 53.\n",
      " 54. 55. 56. 57. 58. 59. 60. 61. 62. 63. 64. 65. 66. 67. 68. 69. 70. 71.\n",
      " 72. 73. 74. 75. 76. 77. 78. 79. 80. 81. 82. 83. 84. 85. 86. 87. 88. 89.\n",
      " 90. 91. 92. 93. 94. 95. 96. 97. 98. 99.]\n",
      "\n",
      "se eliminan los puntos \n",
      " [ 0  1  2  3  4  5  6  7  8  9 10 11 12 13 14 15 16 17 18 19 20 21 22 23\n",
      " 24 25 26 27 28 29 30 31 32 33 34 35 36 37 38 39 40 41 42 43 44 45 46 47\n",
      " 48 49 50 51 52 53 54 55 56 57 58 59 60 61 62 63 64 65 66 67 68 69 70 71\n",
      " 72 73 74 75 76 77 78 79 80 81 82 83 84 85 86 87 88 89 90 91 92 93 94 95\n",
      " 96 97 98 99]\n"
     ]
    }
   ],
   "source": [
    "# crear una función generadora de 10 numeros y construir una matriz:\n",
    "def generate():\n",
    "    for x in range(100):\n",
    "        yield x\n",
    "z = np.fromiter(generate(),dtype=float, count=-1)\n",
    "print(\"\\narray con puntos \\n\",z)\n",
    "# para imprimirlo sin los puntos\n",
    "print(\"\\nse eliminan los puntos \\n\",z.astype(int))\n",
    "# como dato adicional, se puede agregar un asterisco en el print para eliminar los corchetes"
   ]
  },
  {
   "cell_type": "code",
   "execution_count": 42,
   "metadata": {},
   "outputs": [
    {
     "name": "stdout",
     "output_type": "stream",
     "text": [
      "[0.09090909 0.18181818 0.27272727 0.36363636 0.45454545 0.54545455\n",
      " 0.63636364 0.72727273 0.81818182 0.90909091]\n"
     ]
    }
   ],
   "source": [
    "# crear un array con nímeros que vayan del cero al uno\n",
    "z = np.linspace(0,1,11,endpoint=False)[1:]\n",
    "print(z)"
   ]
  },
  {
   "cell_type": "markdown",
   "metadata": {},
   "source": [
    "Ayuda en Python - para conocer las propiedades de cada cosa, podemos agregar el signo \"?\""
   ]
  },
  {
   "cell_type": "code",
   "execution_count": 46,
   "metadata": {},
   "outputs": [
    {
     "name": "stdout",
     "output_type": "stream",
     "text": [
      "\u001b[1;31mDocstring:\u001b[0m\n",
      "arange([start,] stop[, step,], dtype=None, *, like=None)\n",
      "\n",
      "Return evenly spaced values within a given interval.\n",
      "\n",
      "``arange`` can be called with a varying number of positional arguments:\n",
      "\n",
      "* ``arange(stop)``: Values are generated within the half-open interval\n",
      "  ``[0, stop)`` (in other words, the interval including `start` but\n",
      "  excluding `stop`).\n",
      "* ``arange(start, stop)``: Values are generated within the half-open\n",
      "  interval ``[start, stop)``.\n",
      "* ``arange(start, stop, step)`` Values are generated within the half-open\n",
      "  interval ``[start, stop)``, with spacing between values given by\n",
      "  ``step``.\n",
      "\n",
      "For integer arguments the function is roughly equivalent to the Python\n",
      "built-in :py:class:`range`, but returns an ndarray rather than a ``range``\n",
      "instance.\n",
      "\n",
      "When using a non-integer step, such as 0.1, it is often better to use\n",
      "`numpy.linspace`.\n",
      "\n",
      "See the Warning sections below for more information.\n",
      "\n",
      "Parameters\n",
      "----------\n",
      "start : integer or real, optional\n",
      "    Start of interval.  The interval includes this value.  The default\n",
      "    start value is 0.\n",
      "stop : integer or real\n",
      "    End of interval.  The interval does not include this value, except\n",
      "    in some cases where `step` is not an integer and floating point\n",
      "    round-off affects the length of `out`.\n",
      "step : integer or real, optional\n",
      "    Spacing between values.  For any output `out`, this is the distance\n",
      "    between two adjacent values, ``out[i+1] - out[i]``.  The default\n",
      "    step size is 1.  If `step` is specified as a position argument,\n",
      "    `start` must also be given.\n",
      "dtype : dtype, optional\n",
      "    The type of the output array.  If `dtype` is not given, infer the data\n",
      "    type from the other input arguments.\n",
      "like : array_like, optional\n",
      "    Reference object to allow the creation of arrays which are not\n",
      "    NumPy arrays. If an array-like passed in as ``like`` supports\n",
      "    the ``__array_function__`` protocol, the result will be defined\n",
      "    by it. In this case, it ensures the creation of an array object\n",
      "    compatible with that passed in via this argument.\n",
      "\n",
      "    .. versionadded:: 1.20.0\n",
      "\n",
      "Returns\n",
      "-------\n",
      "arange : ndarray\n",
      "    Array of evenly spaced values.\n",
      "\n",
      "    For floating point arguments, the length of the result is\n",
      "    ``ceil((stop - start)/step)``.  Because of floating point overflow,\n",
      "    this rule may result in the last element of `out` being greater\n",
      "    than `stop`.\n",
      "\n",
      "Warnings\n",
      "--------\n",
      "The length of the output might not be numerically stable.\n",
      "\n",
      "Another stability issue is due to the internal implementation of\n",
      "`numpy.arange`.\n",
      "The actual step value used to populate the array is\n",
      "``dtype(start + step) - dtype(start)`` and not `step`. Precision loss\n",
      "can occur here, due to casting or due to using floating points when\n",
      "`start` is much larger than `step`. This can lead to unexpected\n",
      "behaviour. For example::\n",
      "\n",
      "  >>> np.arange(0, 5, 0.5, dtype=int)\n",
      "  array([0, 0, 0, 0, 0, 0, 0, 0, 0, 0])\n",
      "  >>> np.arange(-3, 3, 0.5, dtype=int)\n",
      "  array([-3, -2, -1,  0,  1,  2,  3,  4,  5,  6,  7,  8])\n",
      "\n",
      "In such cases, the use of `numpy.linspace` should be preferred.\n",
      "\n",
      "The built-in :py:class:`range` generates :std:doc:`Python built-in integers\n",
      "that have arbitrary size <python:c-api/long>`, while `numpy.arange`\n",
      "produces `numpy.int32` or `numpy.int64` numbers. This may result in\n",
      "incorrect results for large integer values::\n",
      "\n",
      "  >>> power = 40\n",
      "  >>> modulo = 10000\n",
      "  >>> x1 = [(n ** power) % modulo for n in range(8)]\n",
      "  >>> x2 = [(n ** power) % modulo for n in np.arange(8)]\n",
      "  >>> print(x1)\n",
      "  [0, 1, 7776, 8801, 6176, 625, 6576, 4001]  # correct\n",
      "  >>> print(x2)\n",
      "  [0, 1, 7776, 7185, 0, 5969, 4816, 3361]  # incorrect\n",
      "\n",
      "See Also\n",
      "--------\n",
      "numpy.linspace : Evenly spaced numbers with careful handling of endpoints.\n",
      "numpy.ogrid: Arrays of evenly spaced numbers in N-dimensions.\n",
      "numpy.mgrid: Grid-shaped arrays of evenly spaced numbers in N-dimensions.\n",
      ":ref:`how-to-partition`\n",
      "\n",
      "Examples\n",
      "--------\n",
      ">>> np.arange(3)\n",
      "array([0, 1, 2])\n",
      ">>> np.arange(3.0)\n",
      "array([ 0.,  1.,  2.])\n",
      ">>> np.arange(3,7)\n",
      "array([3, 4, 5, 6])\n",
      ">>> np.arange(3,7,2)\n",
      "array([3, 5])\n",
      "\u001b[1;31mType:\u001b[0m      builtin_function_or_method"
     ]
    }
   ],
   "source": [
    "np.arange?\n",
    "# arroja todas las propiedades del arange"
   ]
  },
  {
   "cell_type": "code",
   "execution_count": 47,
   "metadata": {},
   "outputs": [
    {
     "name": "stdout",
     "output_type": "stream",
     "text": [
      "[0.38984668 0.47574465 0.50268297 0.67487264 0.71001887 0.74967624\n",
      " 0.83563437 0.92267216 0.96024329 0.99436905]\n"
     ]
    }
   ],
   "source": [
    "# crear un array random con 10 elementos\n",
    "z = np.random.random(10)\n",
    "z.sort()\n",
    "print(z)"
   ]
  },
  {
   "cell_type": "code",
   "execution_count": 48,
   "metadata": {},
   "outputs": [
    {
     "name": "stdout",
     "output_type": "stream",
     "text": [
      "[0 1 2 3 4 5 6 7 8 9] = 45\n",
      "la suma de los números en el array es 45\n"
     ]
    }
   ],
   "source": [
    "# sumar una matriz pequeña = suma todos los numeros\n",
    "z = np.arange(10)\n",
    "suma = np.add.reduce(z)\n",
    "print(f\"{z} = {suma}\")\n",
    "print(f\"la suma de los números en el array es {suma}\")"
   ]
  },
  {
   "cell_type": "code",
   "execution_count": 49,
   "metadata": {},
   "outputs": [
    {
     "name": "stdout",
     "output_type": "stream",
     "text": [
      "[1 1 0 0 0] [1 1 0 1 0]\n",
      "False\n",
      "False\n"
     ]
    }
   ],
   "source": [
    "# Considerar 2 matrices aleatorias y ver si son iguales\n",
    "a = np.random.randint(0,2,5)\n",
    "b = np.random.randint(0,2,5)\n",
    "print(f\"{a} {b}\")\n",
    "\n",
    "igual = np.allclose(a,b) # ver igualdad (opcion 1)\n",
    "print(igual)\n",
    "\n",
    "igual = np.array_equal(a,b) # ver igualdad (opción 2)\n",
    "print(igual)"
   ]
  }
 ],
 "metadata": {
  "kernelspec": {
   "display_name": "Python 3",
   "language": "python",
   "name": "python3"
  },
  "language_info": {
   "codemirror_mode": {
    "name": "ipython",
    "version": 3
   },
   "file_extension": ".py",
   "mimetype": "text/x-python",
   "name": "python",
   "nbconvert_exporter": "python",
   "pygments_lexer": "ipython3",
   "version": "3.12.3"
  }
 },
 "nbformat": 4,
 "nbformat_minor": 2
}

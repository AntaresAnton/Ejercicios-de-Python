{
 "cells": [
  {
   "cell_type": "markdown",
   "metadata": {},
   "source": [
    "Probando números\n",
    "como dato, sale más fácil usar f strings por su simplicidad jaja,\n",
    "ah, además para los saltos de linea son 3 comillas dobles por lado, así uno puede hacer saltos de linea de pana"
   ]
  },
  {
   "cell_type": "code",
   "execution_count": 14,
   "metadata": {},
   "outputs": [
    {
     "name": "stdout",
     "output_type": "stream",
     "text": [
      "\n",
      "El número 12345 de tipo: True \n",
      "El número 12345 de tipo: 12345 \n",
      "El número 12345 de tipo: 12345.0 \n",
      "El número 12345 de tipo: <class 'int'> \n",
      "El número 12345 de tipo: 12345 \n",
      "El número 12345 de tipo: 0b11000000111001 \n",
      "El número 12345 de tipo: 0o30071 \n",
      "El número 12345 de tipo: 0x3039\n"
     ]
    }
   ],
   "source": [
    "numero = 12345\n",
    "\n",
    "buleano = bool(numero)\n",
    "entero = int(numero)\n",
    "flotante = float(numero)\n",
    "tipo = type(numero)\n",
    "redond = round(numero)\n",
    "binario = bin(numero)\n",
    "numero_octal = oct(numero)\n",
    "hexadecimal = hex(numero)\n",
    "\n",
    "print(f\"\"\"\n",
    "El número {numero} de tipo: {buleano} \n",
    "El número {numero} de tipo: {entero} \n",
    "El número {numero} de tipo: {flotante} \n",
    "El número {numero} de tipo: {tipo} \n",
    "El número {numero} de tipo: {redond} \n",
    "El número {numero} de tipo: {binario} \n",
    "El número {numero} de tipo: {numero_octal} \n",
    "El número {numero} de tipo: {hexadecimal}\n",
    "\"\"\")\n"
   ]
  },
  {
   "cell_type": "markdown",
   "metadata": {},
   "source": [
    "ejemplo de la flecha (sacado de los cursos de Cisco Essentials jajaja)"
   ]
  },
  {
   "cell_type": "code",
   "execution_count": 22,
   "metadata": {},
   "outputs": [
    {
     "name": "stdout",
     "output_type": "stream",
     "text": [
      "Con las 3 comillas, para ahorrarse tanto print\n",
      "\n",
      "          *\n",
      "         * *\n",
      "        *   *\n",
      "       *     *\n",
      "      ***   ***\n",
      "        *   *\n",
      "        *   *\n",
      "        *****\n",
      "      \n",
      "      \n"
     ]
    }
   ],
   "source": [
    "# Sample Solution\n",
    "\n",
    "###################\n",
    "print(\"original version:\")\n",
    "###################\n",
    "print(\"    *\")\n",
    "print(\"   * *\")\n",
    "print(\"  *   *\")\n",
    "print(\" *     *\")\n",
    "print(\"***   ***\")\n",
    "print(\"  *   *\")\n",
    "print(\"  *   *\")\n",
    "print(\"  *****\")\n",
    "###################\n",
    "print(\"with fewer 'print()' invocations (que se vé de perro el código):\")\n",
    "###################\n",
    "print(\"    *\\n   * *\\n  *   *\\n *     *\\n***   ***\")\n",
    "print(\"  *   *\\n  *   *\\n  *****\")\n",
    "\n",
    "print(\"Con las 3 comillas, para ahorrarse tanto print\")\n",
    "print(\"\"\"\n",
    "          *\n",
    "         * *\n",
    "        *   *\n",
    "       *     *\n",
    "      ***   ***\n",
    "        *   *\n",
    "        *   *\n",
    "        *****\n",
    "      \n",
    "      \"\"\")\n",
    "# las 3 comillas, suelen ocuparse más para textos largos. A modo de ejemplo, un cuento o un poema que lleve párrafos, asi sólo se ocupa un print para tanto epiteto, y nos simplifica más la vida :D\n",
    "\n",
    "\n"
   ]
  },
  {
   "cell_type": "markdown",
   "metadata": {},
   "source": [
    "Ruleta rusa en Python (a modo de ejemplo, sólo arroja un número, ahi ven que pueden hacer con ella)"
   ]
  },
  {
   "cell_type": "code",
   "execution_count": 31,
   "metadata": {},
   "outputs": [
    {
     "name": "stdout",
     "output_type": "stream",
     "text": [
      "ha salido el número: 1\n",
      "salió el número 1, reiniciando equipo :v\n"
     ]
    }
   ],
   "source": [
    "import random\n",
    "\n",
    "# para que se vea que numero salió\n",
    "numero_random = random.randint(0,6)\n",
    "print(\"ha salido el número:\", numero_random)\n",
    "if numero_random == 1:\n",
    "    print(\"salió el número 1, reiniciando equipo :v\")\n",
    "else:\n",
    "    print(\"Tuviste suerte persona desconocida :D\")\n",
    "    \n",
    "# como ven, sólo es a modo ejemplo, no reiniciará nada, pero puedne colocar otros parámetros para que sea entretenida :v"
   ]
  }
 ],
 "metadata": {
  "kernelspec": {
   "display_name": "Python 3",
   "language": "python",
   "name": "python3"
  },
  "language_info": {
   "codemirror_mode": {
    "name": "ipython",
    "version": 3
   },
   "file_extension": ".py",
   "mimetype": "text/x-python",
   "name": "python",
   "nbconvert_exporter": "python",
   "pygments_lexer": "ipython3",
   "version": "3.12.2"
  }
 },
 "nbformat": 4,
 "nbformat_minor": 2
}

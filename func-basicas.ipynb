{
 "cells": [
  {
   "cell_type": "markdown",
   "metadata": {},
   "source": [
    "Probando números\n",
    "como dato, sale más fácil usar f strings por su simplicidad jaja,\n",
    "ah, además para los saltos de linea son 3 comillas dobles por lado, así uno puede hacer saltos de linea de pana"
   ]
  },
  {
   "cell_type": "code",
   "execution_count": 88,
   "metadata": {},
   "outputs": [
    {
     "name": "stdout",
     "output_type": "stream",
     "text": [
      "\n",
      "parámetros involucrados:\n",
      "\n",
      "bool()  =   entrega el resultado si es verdadero o falso. dependiendo del tipo de dato, arrojará la respuesta\n",
      "int()   =   entrega el valoe entero de un número (en caso que sea ingresado un valor con decimales)\n",
      "float() =   entrega el valor con decimales respectivos. si no tiene decimales, añade un .0\n",
      "type()  =   se puede ver qué tipo de valor contiene la variable\n",
      "round() =   redondea el valor que se ingresa\n",
      "bin()   =   arroja el resultado binario del valor ingresado\n",
      "oct()   =   arroja el valor octal del dato ingresado\n",
      "hex()   =   arroja el valor hexadecimal del dato ingresado\n",
      "      \n",
      "\n",
      "El número 12345 de tipo: True \n",
      "El número 12345 de tipo: 12345 \n",
      "El número 12345 de tipo: 12345.0 \n",
      "El número 12345 de tipo: <class 'int'> \n",
      "El número 12345 de tipo: 12345 \n",
      "El número 12345 de tipo: 0b11000000111001 \n",
      "El número 12345 de tipo: 0o30071 \n",
      "El número 12345 de tipo: 0x3039\n",
      "\n"
     ]
    }
   ],
   "source": [
    "numero = 12345\n",
    "\n",
    "print(\"\"\"\n",
    "parámetros involucrados:\n",
    "\n",
    "bool()  =   entrega el resultado si es verdadero o falso. dependiendo del tipo de dato, arrojará la respuesta\n",
    "int()   =   entrega el valoe entero de un número (en caso que sea ingresado un valor con decimales)\n",
    "float() =   entrega el valor con decimales respectivos. si no tiene decimales, añade un .0\n",
    "type()  =   se puede ver qué tipo de valor contiene la variable\n",
    "round() =   redondea el valor que se ingresa\n",
    "bin()   =   arroja el resultado binario del valor ingresado\n",
    "oct()   =   arroja el valor octal del dato ingresado\n",
    "hex()   =   arroja el valor hexadecimal del dato ingresado\n",
    "      \"\"\")\n",
    "\n",
    "\n",
    "buleano = bool(numero)\n",
    "entero = int(numero)\n",
    "flotante = float(numero)\n",
    "tipo = type(numero)\n",
    "redond = round(numero)\n",
    "binario = bin(numero)\n",
    "numero_octal = oct(numero)\n",
    "hexadecimal = hex(numero)\n",
    "\n",
    "print(f\"\"\"\n",
    "El número {numero} de tipo: {buleano} \n",
    "El número {numero} de tipo: {entero} \n",
    "El número {numero} de tipo: {flotante} \n",
    "El número {numero} de tipo: {tipo} \n",
    "El número {numero} de tipo: {redond} \n",
    "El número {numero} de tipo: {binario} \n",
    "El número {numero} de tipo: {numero_octal} \n",
    "El número {numero} de tipo: {hexadecimal}\n",
    "\"\"\")\n"
   ]
  },
  {
   "cell_type": "markdown",
   "metadata": {},
   "source": [
    "ejemplo de la flecha (sacado de los cursos de Cisco Essentials jajaja)"
   ]
  },
  {
   "cell_type": "code",
   "execution_count": 22,
   "metadata": {},
   "outputs": [
    {
     "name": "stdout",
     "output_type": "stream",
     "text": [
      "Con las 3 comillas, para ahorrarse tanto print\n",
      "\n",
      "          *\n",
      "         * *\n",
      "        *   *\n",
      "       *     *\n",
      "      ***   ***\n",
      "        *   *\n",
      "        *   *\n",
      "        *****\n",
      "      \n",
      "      \n"
     ]
    }
   ],
   "source": [
    "# Sample Solution\n",
    "\n",
    "###################\n",
    "print(\"original version:\")\n",
    "###################\n",
    "print(\"    *\")\n",
    "print(\"   * *\")\n",
    "print(\"  *   *\")\n",
    "print(\" *     *\")\n",
    "print(\"***   ***\")\n",
    "print(\"  *   *\")\n",
    "print(\"  *   *\")\n",
    "print(\"  *****\")\n",
    "###################\n",
    "print(\"with fewer 'print()' invocations (que se vé de perro el código):\")\n",
    "###################\n",
    "print(\"    *\\n   * *\\n  *   *\\n *     *\\n***   ***\")\n",
    "print(\"  *   *\\n  *   *\\n  *****\")\n",
    "\n",
    "print(\"Con las 3 comillas, para ahorrarse tanto print\")\n",
    "print(\"\"\"\n",
    "          *\n",
    "         * *\n",
    "        *   *\n",
    "       *     *\n",
    "      ***   ***\n",
    "        *   *\n",
    "        *   *\n",
    "        *****\n",
    "      \n",
    "      \"\"\")\n",
    "# las 3 comillas, suelen ocuparse más para textos largos. A modo de ejemplo, un cuento o un poema que lleve párrafos, asi sólo se ocupa un print para tanto epiteto, y nos simplifica más la vida :D\n",
    "\n",
    "\n"
   ]
  },
  {
   "cell_type": "markdown",
   "metadata": {},
   "source": [
    "Ruleta rusa en Python (a modo de ejemplo, sólo arroja un número, ahi ven que pueden hacer con ella)"
   ]
  },
  {
   "cell_type": "code",
   "execution_count": 31,
   "metadata": {},
   "outputs": [
    {
     "name": "stdout",
     "output_type": "stream",
     "text": [
      "ha salido el número: 1\n",
      "salió el número 1, reiniciando equipo :v\n"
     ]
    }
   ],
   "source": [
    "import random\n",
    "\n",
    "# para que se vea que numero salió\n",
    "numero_random = random.randint(0,6)\n",
    "print(\"ha salido el número:\", numero_random)\n",
    "if numero_random == 1:\n",
    "    print(\"salió el número 1, reiniciando equipo :v\")\n",
    "else:\n",
    "    print(\"Tuviste suerte persona desconocida :D\")\n",
    "    \n",
    "# como ven, sólo es a modo ejemplo, no reiniciará nada, pero puedne colocar otros parámetros para que sea entretenida :v"
   ]
  },
  {
   "cell_type": "markdown",
   "metadata": {},
   "source": [
    "Comillas triples\n",
    "para cadenas multilineas"
   ]
  },
  {
   "cell_type": "code",
   "execution_count": 1,
   "metadata": {},
   "outputs": [
    {
     "name": "stdout",
     "output_type": "stream",
     "text": [
      "\n",
      "      había una vez\n",
      "      2 veces\n",
      "      3 veces\n",
      "      jaja\n"
     ]
    }
   ],
   "source": [
    "print(\"\"\"\n",
    "      había una vez\n",
    "      2 veces\n",
    "      3 veces\n",
    "      jaja\"\"\")"
   ]
  },
  {
   "cell_type": "markdown",
   "metadata": {},
   "source": [
    "Raw data\n",
    "similar a los \"f strings\" pero en este caso se coloca una \"r\", la finalidad de esto, es colocar los valores brutos, o en crudo.\n",
    "\n",
    "como dato adicional, algunos parámetros (como el sep='') sirven para realizar acciones en cadenas más compuestas, como por ejemplo, si hacemos un print y vamos uniendo variables\n",
    "abajo mejor dejaré un ejemplo jaja\n",
    "\n",
    "Como dato adicional, no funciona al realizar f strings :( "
   ]
  },
  {
   "cell_type": "code",
   "execution_count": 40,
   "metadata": {},
   "outputs": [
    {
     "name": "stdout",
     "output_type": "stream",
     "text": [
      "C:nombredirectorio\n",
      "C:\\nombre\\directorio\n",
      "patrocles | patrick\n",
      "realizó la separación :D\n"
     ]
    }
   ],
   "source": [
    "# print normal y silvestre\n",
    "# lo dejo así, ya que sin raw arroja error por los backslash (los / alrevés jaja)\n",
    "print('C:nombredirectorio')\n",
    "\n",
    "# archivo preformateado en raw\n",
    "print(r'C:\\nombre\\directorio')\n",
    "\n",
    "\n",
    "# ejemplo con parámetros como el sep=\n",
    "id_pat = {\n",
    "    \"nombre\": \"patrocles\",\n",
    "    \"last\": \"patrick\"\n",
    "}\n",
    "print(id_pat[\"nombre\"], id_pat[\"last\"], sep= \" | \" )\n",
    "print(\"realizó la separación :D\")\n"
   ]
  },
  {
   "cell_type": "markdown",
   "metadata": {},
   "source": [
    "Arrays - Arreglos\n",
    "los \"arrays\" se suelen representar utilizando listas, que son una estructura de datos flexible y versátil que puede contener elementos de diferentes tipos"
   ]
  },
  {
   "cell_type": "code",
   "execution_count": 41,
   "metadata": {},
   "outputs": [
    {
     "name": "stdout",
     "output_type": "stream",
     "text": [
      "1\n",
      "1\n",
      "10\n",
      "4\n",
      "5\n",
      "6\n"
     ]
    }
   ],
   "source": [
    "# Crear un array (lista) de números\n",
    "numeros = [1, 2, 3, 4, 5]\n",
    "\n",
    "# Acceder a un elemento del array por su índice\n",
    "print(numeros[0])  # Salida: 1\n",
    "\n",
    "# Modificar un elemento del array\n",
    "numeros[2] = 10\n",
    "\n",
    "# Añadir un elemento al final del array\n",
    "numeros.append(6)\n",
    "\n",
    "# Eliminar un elemento del array\n",
    "del numeros[1]\n",
    "\n",
    "# Iterar sobre los elementos del array\n",
    "for numero in numeros:\n",
    "    print(numero)"
   ]
  },
  {
   "cell_type": "markdown",
   "metadata": {},
   "source": [
    "Caracteres unicode :D\n",
    "lo bkn es que se pueden colocar caracteres unicode en Python, para los que no tienen aguna referencia, pueden echa run vistazo a la web de \"font awesome\" "
   ]
  },
  {
   "cell_type": "code",
   "execution_count": 46,
   "metadata": {},
   "outputs": [
    {
     "name": "stdout",
     "output_type": "stream",
     "text": [
      "☀\n",
      "Ω\n",
      "♥\n",
      "☀ Ω ♥\n"
     ]
    }
   ],
   "source": [
    "sol = '☀'\n",
    "print(sol)\n",
    "\n",
    "omega = '\\u03A9'\n",
    "print(omega)\n",
    "\n",
    "corazon = '\\U00002665'\n",
    "print(corazon)\n",
    "\n",
    "# imprimir los 3 en linea\n",
    "print(f'{sol} {omega} {corazon}')"
   ]
  },
  {
   "cell_type": "markdown",
   "metadata": {},
   "source": [
    "dir()\n",
    "la función dir() se utiliza para listar los nombres de los atributos y métodos de un objeto. Puede ser utilizada sin argumentos para listar los nombres en el espacio de nombres local o con un objeto como argumento para listar los atributos y métodos disponibles para ese objeto."
   ]
  },
  {
   "cell_type": "code",
   "execution_count": 50,
   "metadata": {},
   "outputs": [
    {
     "name": "stdout",
     "output_type": "stream",
     "text": [
      "['__add__', '__class__', '__class_getitem__', '__contains__', '__delattr__', '__delitem__', '__dir__', '__doc__', '__eq__', '__format__', '__ge__', '__getattribute__', '__getitem__', '__getstate__', '__gt__', '__hash__', '__iadd__', '__imul__', '__init__', '__init_subclass__', '__iter__', '__le__', '__len__', '__lt__', '__mul__', '__ne__', '__new__', '__reduce__', '__reduce_ex__', '__repr__', '__reversed__', '__rmul__', '__setattr__', '__setitem__', '__sizeof__', '__str__', '__subclasshook__', 'append', 'clear', 'copy', 'count', 'extend', 'index', 'insert', 'pop', 'remove', 'reverse', 'sort']\n"
     ]
    }
   ],
   "source": [
    "mi_lista = [1, 2, 3]\n",
    "print(dir(mi_lista))"
   ]
  },
  {
   "cell_type": "code",
   "execution_count": 57,
   "metadata": {},
   "outputs": [
    {
     "name": "stdout",
     "output_type": "stream",
     "text": [
      "Ha\n"
     ]
    }
   ],
   "source": [
    "# trocear cadenas\n",
    "cadena = \"Hola, mundo\"\n",
    "trozo = cadena[:4:3]  # Extraer los primeros 4 caracteres\n",
    "print(trozo)  # Salida: \"Hola\""
   ]
  },
  {
   "cell_type": "markdown",
   "metadata": {},
   "source": [
    "Números - como acortarlos, separarlos para que queden bonitos a la vista, además de exponenetes (colocarle la E)"
   ]
  },
  {
   "cell_type": "code",
   "execution_count": 68,
   "metadata": {},
   "outputs": [
    {
     "name": "stdout",
     "output_type": "stream",
     "text": [
      "a cuanto están los helados de 1000.0?\n",
      "a cuanto están los helados de $1000?\n",
      "O T R A   P Á G I N A   R A N D O M   D E   M E M E S\n"
     ]
    }
   ],
   "source": [
    "exponente = 1e3 # esto sería como colocar 1000\n",
    "print(f'a cuanto están los helados de {exponente}?')\n",
    "\n",
    "# acá tra diferente, ya que nos entregará el número entero\n",
    "exponente = int(1e3)\n",
    "print(f'a cuanto están los helados de ${exponente}?')\n",
    "\n",
    "# versión memística (como cuando uno separa los textos jaja)\n",
    "exponente = int(1e3)\n",
    "print(*'otra página random de memes'.upper()) #le añado upper para que salga en mayus jaja"
   ]
  },
  {
   "cell_type": "markdown",
   "metadata": {},
   "source": [
    "Textos en python\n",
    "como en todos lados, está la variedad en cuanto a edición de textos :D"
   ]
  },
  {
   "cell_type": "code",
   "execution_count": 86,
   "metadata": {},
   "outputs": [
    {
     "name": "stdout",
     "output_type": "stream",
     "text": [
      "\n",
      "upper()         =       para los textos en mayusculas\n",
      "lower()         =       para los textos en minusculas\n",
      "capitalize()    =       para los textos capitalizados\n",
      "title()         =       para que en cada palabra tenga una mayuscula al comienzo\n",
      "\n",
      "hola pianola\n",
      "HOLA PIANOLA\n",
      "Hola pianola\n",
      "Hola Pianola\n"
     ]
    }
   ],
   "source": [
    "texto_mayus = \"hola pianola\"\n",
    "texto_minus = \"hola pianola\"\n",
    "\n",
    "print(\"\"\"\n",
    "upper()         =       para los textos en mayusculas\n",
    "lower()         =       para los textos en minusculas\n",
    "capitalize()    =       para los textos capitalizados\n",
    "title()         =       para que en cada palabra tenga una mayuscula al comienzo\n",
    "\"\"\")\n",
    "\n",
    "print(f'{texto_mayus}'.lower()) # para los textos en mayusculas (usaré el param texto_minus)\n",
    "print(f'{texto_minus}'.upper()) # para los textos en minusculas (usaré el param texto_mayus)\n",
    "print(f'{texto_mayus}'.capitalize()) # para los textos capitalizados \n",
    "print(f'{texto_mayus}'.title()) # para que en cada palabra tenga una mayuscula al comienzo"
   ]
  },
  {
   "cell_type": "markdown",
   "metadata": {},
   "source": [
    "Pertenencia a un ejemento mediante el parámetro IN (en minúsculas eso si)\n",
    "\n",
    "verificar la pertenencia de un elemento en una secuencia (como una lista, tupla, conjunto o cadena) utilizando el operador in. Este operador devuelve True si el elemento está presente en la secuencia y False en caso que no\n",
    "\n",
    "ejemplo:"
   ]
  },
  {
   "cell_type": "code",
   "execution_count": 99,
   "metadata": {},
   "outputs": [
    {
     "name": "stdout",
     "output_type": "stream",
     "text": [
      "numeros del array:  [1, 2, 3, 4, 5]\n",
      "True, ya que el numero si está en el array\n",
      "False, ya que el numero no está en el array\n",
      "le ponemos el separador de coma, para que se vea mas organizado\n"
     ]
    }
   ],
   "source": [
    "numeros = [1, 2, 3, 4, 5]\n",
    "print ('numeros del array: ',numeros)\n",
    "print(3 in numeros, ' ya que el numero si está en el array', sep=',')  # Salida: True ya que el npumero está presente en el array\n",
    "print(6 in numeros, ' ya que el numero no está en el array', sep=',')  # Salida: False, ya que el numero no está presente en el array\n",
    "print('le ponemos el separador de coma, para que se vea mas organizado')"
   ]
  }
 ],
 "metadata": {
  "kernelspec": {
   "display_name": "Python 3",
   "language": "python",
   "name": "python3"
  },
  "language_info": {
   "codemirror_mode": {
    "name": "ipython",
    "version": 3
   },
   "file_extension": ".py",
   "mimetype": "text/x-python",
   "name": "python",
   "nbconvert_exporter": "python",
   "pygments_lexer": "ipython3",
   "version": "3.12.2"
  }
 },
 "nbformat": 4,
 "nbformat_minor": 2
}

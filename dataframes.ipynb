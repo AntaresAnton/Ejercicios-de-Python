{
 "cells": [
  {
   "cell_type": "markdown",
   "metadata": {},
   "source": [
    "usaremos pandas para esto"
   ]
  },
  {
   "cell_type": "code",
   "execution_count": 20,
   "metadata": {},
   "outputs": [
    {
     "name": "stdout",
     "output_type": "stream",
     "text": [
      "      Unnamed: 0        band_name  fans formed          origin split  \\\n",
      "0              0      Iron Maiden  4195   1975  United Kingdom     -   \n",
      "1              1            Opeth  4147   1990          Sweden  1990   \n",
      "2              2        Metallica  3712   1981             USA     -   \n",
      "3              3         Megadeth  3105   1983             USA  1983   \n",
      "4              4      Amon Amarth  3054   1988          Sweden     -   \n",
      "...          ...              ...   ...    ...             ...   ...   \n",
      "4995        4995            Atara     0   2006          France  2006   \n",
      "4996        4996       Avicularia     0   2003         Croatia     -   \n",
      "4997        4997            Awake     0   2006  United Kingdom  2006   \n",
      "4998        4998           Axatak     0   1983       Australia  1988   \n",
      "4999        4999  Axis Of Despair     0   2014          Sweden  2014   \n",
      "\n",
      "                                                 style  \n",
      "0                      New wave of british heavy,Heavy  \n",
      "1     Extreme progressive,Progressive rock,Progressive  \n",
      "2                                Heavy,Bay area thrash  \n",
      "3                               Thrash,Heavy,Hard rock  \n",
      "4                                        Melodic death  \n",
      "...                                                ...  \n",
      "4995                                   Black,Grindcore  \n",
      "4996                                  Avantgarde death  \n",
      "4997                                 Heavy,Progressive  \n",
      "4998                                   Hard rock,Heavy  \n",
      "4999                                         Grindcore  \n",
      "\n",
      "[5000 rows x 7 columns]\n"
     ]
    }
   ],
   "source": [
    "import pandas as pd\n",
    "\n",
    "# cargar archivo de ejemplo\n",
    "df = pd.read_csv('metal_bands.csv', encoding='latin1')\n",
    "\n",
    "\n",
    "print(df) #para revisarlo"
   ]
  }
 ],
 "metadata": {
  "kernelspec": {
   "display_name": "Python 3",
   "language": "python",
   "name": "python3"
  },
  "language_info": {
   "codemirror_mode": {
    "name": "ipython",
    "version": 3
   },
   "file_extension": ".py",
   "mimetype": "text/x-python",
   "name": "python",
   "nbconvert_exporter": "python",
   "pygments_lexer": "ipython3",
   "version": "3.12.2"
  }
 },
 "nbformat": 4,
 "nbformat_minor": 2
}

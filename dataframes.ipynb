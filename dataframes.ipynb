{
 "cells": [
  {
   "cell_type": "markdown",
   "metadata": {},
   "source": [
    "Ejemplos para dataframes antes de meternos en el excel de lleno:"
   ]
  },
  {
   "cell_type": "code",
   "execution_count": 11,
   "metadata": {},
   "outputs": [
    {
     "name": "stdout",
     "output_type": "stream",
     "text": [
      "Media de la columna A: 3.0\n",
      "Media de la columna B: 30.0\n"
     ]
    }
   ],
   "source": [
    "import pandas as pd\n",
    "# Crear un DataFrame de ejemplo\n",
    "data = {'A': [1, 2, 3, 4, 5], 'B': [10, 20, 30, 40, 50]} #un diccionario con datos paramétricos jaja\n",
    "df = pd.DataFrame(data)\n",
    "\n",
    "# Calcular la media de cada columna\n",
    "media_columna_A = df['A'].mean()\n",
    "media_columna_B = df['B'].mean()\n",
    "\n",
    "print(\"Media de la columna A:\", media_columna_A)\n",
    "print(\"Media de la columna B:\", media_columna_B)"
   ]
  },
  {
   "cell_type": "code",
   "execution_count": 14,
   "metadata": {},
   "outputs": [
    {
     "name": "stdout",
     "output_type": "stream",
     "text": [
      "\n",
      "sum()       : Calcula la suma de los valores.\n",
      "median()    : Calcula la mediana de los valores.\n",
      "std()       : Calcula la desviación estándar de los valores.\n",
      "min()       : Encuentra el valor mínimo.\n",
      "max()       : Encuentra el valor máximo.\n",
      "count()     : Cuenta el número de elementos no nulos.\n",
      "describe()  : Genera un resumen estadístico de los datos.\n",
      "      \n",
      "      \n"
     ]
    }
   ],
   "source": [
    "print(\"\"\"\n",
    "sum()       : Calcula la suma de los valores.\n",
    "median()    : Calcula la mediana de los valores.\n",
    "std()       : Calcula la desviación estándar de los valores.\n",
    "min()       : Encuentra el valor mínimo.\n",
    "max()       : Encuentra el valor máximo.\n",
    "count()     : Cuenta el número de elementos no nulos.\n",
    "describe()  : Genera un resumen estadístico de los datos.\n",
    "      \n",
    "      \"\"\")"
   ]
  },
  {
   "cell_type": "markdown",
   "metadata": {},
   "source": [
    "usaremos pandas para esto, y colorama para darle color jaja\n",
    "en caso de no tener instalado tanto pandas como colorama, sus respectivos comandos en windows son\n",
    "\n",
    "pip install pandas\n",
    "pip install colorama"
   ]
  },
  {
   "cell_type": "code",
   "execution_count": null,
   "metadata": {},
   "outputs": [],
   "source": [
    "import pandas as pd\n",
    "from colorama import *\n",
    "df = pd.read_csv('metal_bands.csv', encoding='latin1') # cargar archivo de ejemplo + la codificación\n",
    "# print(df) #para revisarlo\n",
    "\n",
    "columnas = df.columns\n",
    "bandas = df['band_name'] # para ver todos los datos de una columna, en este caso, de las bandas\n",
    "print(bandas)\n",
    "\n",
    "for i in df['band_name']:\n",
    "    print(Fore.RED + f\"\"\"\n",
    "          Nombre de la banda: {i}\n",
    "          \"\"\")\n",
    "\n",
    "# print(f'número de {columnas[2]}')"
   ]
  },
  {
   "cell_type": "markdown",
   "metadata": {},
   "source": [
    "saquemos el promedio de fanaticada que existe en el excel"
   ]
  },
  {
   "cell_type": "code",
   "execution_count": 12,
   "metadata": {},
   "outputs": [
    {
     "name": "stdout",
     "output_type": "stream",
     "text": [
      "la media de fanaticada es de: 87\n"
     ]
    }
   ],
   "source": [
    "df = pd.read_csv('metal_bands.csv', encoding='latin1') # cargar archivo de ejemplo + la codificación\n",
    "\n",
    "promedio_fan = df['fans'].mean()\n",
    "\n",
    "print('la media de fanaticada es de:', int(promedio_fan))"
   ]
  }
 ],
 "metadata": {
  "kernelspec": {
   "display_name": "Python 3",
   "language": "python",
   "name": "python3"
  },
  "language_info": {
   "codemirror_mode": {
    "name": "ipython",
    "version": 3
   },
   "file_extension": ".py",
   "mimetype": "text/x-python",
   "name": "python",
   "nbconvert_exporter": "python",
   "pygments_lexer": "ipython3",
   "version": "3.12.2"
  }
 },
 "nbformat": 4,
 "nbformat_minor": 2
}
